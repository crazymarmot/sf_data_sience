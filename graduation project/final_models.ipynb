{
 "cells": [
  {
   "cell_type": "code",
   "execution_count": null,
   "id": "773fe241",
   "metadata": {},
   "outputs": [],
   "source": [
    "from sklearn.feature_selection import SelectKBest, f_regression\n",
    "from sklearn.model_selection import train_test_split\n",
    "from sklearn.preprocessing import StandardScaler\n",
    "from sklearn.linear_model import LinearRegression\n",
    "from sklearn.tree import DecisionTreeRegressor\n",
    "from sklearn.linear_model import Ridge\n",
    "from sklearn.preprocessing import PolynomialFeatures, StandardScaler\n",
    "from sklearn.metrics import mean_squared_error, mean_absolute_error, mean_absolute_percentage_error\n",
    "from sklearn.model_selection import GridSearchCV\n",
    "from sklearn.metrics import make_scorer\n",
    "from sklearn.ensemble import RandomForestRegressor\n",
    "from sklearn.ensemble import GradientBoostingRegressor\n",
    "from catboost import CatBoostRegressor\n",
    "from sklearn.feature_selection import SelectKBest, mutual_info_regression\n",
    "\n",
    "import optuna\n",
    "import pandas as pd\n",
    "import numpy as np\n",
    "import matplotlib.pyplot as plt\n",
    "import seaborn as sns\n"
   ]
  },
  {
   "cell_type": "markdown",
   "id": "0cb4198d",
   "metadata": {},
   "source": [
    "Читаю свой обработанный фаил"
   ]
  },
  {
   "cell_type": "code",
   "execution_count": 85,
   "id": "8da6ab94",
   "metadata": {},
   "outputs": [
    {
     "data": {
      "text/html": [
       "<div>\n",
       "<style scoped>\n",
       "    .dataframe tbody tr th:only-of-type {\n",
       "        vertical-align: middle;\n",
       "    }\n",
       "\n",
       "    .dataframe tbody tr th {\n",
       "        vertical-align: top;\n",
       "    }\n",
       "\n",
       "    .dataframe thead th {\n",
       "        text-align: right;\n",
       "    }\n",
       "</style>\n",
       "<table border=\"1\" class=\"dataframe\">\n",
       "  <thead>\n",
       "    <tr style=\"text-align: right;\">\n",
       "      <th></th>\n",
       "      <th>status</th>\n",
       "      <th>fireplace</th>\n",
       "      <th>target</th>\n",
       "      <th>beds_clean</th>\n",
       "      <th>sqft_category_encoded</th>\n",
       "      <th>baths_clean</th>\n",
       "      <th>state_0</th>\n",
       "      <th>state_1</th>\n",
       "      <th>state_2</th>\n",
       "      <th>state_3</th>\n",
       "      <th>...</th>\n",
       "      <th>type__mobile manufactured</th>\n",
       "      <th>type__multi family home</th>\n",
       "      <th>type__other</th>\n",
       "      <th>type__single family home</th>\n",
       "      <th>street_type_0</th>\n",
       "      <th>street_type_1</th>\n",
       "      <th>street_type_2</th>\n",
       "      <th>street_type_3</th>\n",
       "      <th>street_type_4</th>\n",
       "      <th>target_log</th>\n",
       "    </tr>\n",
       "  </thead>\n",
       "  <tbody>\n",
       "    <tr>\n",
       "      <th>0</th>\n",
       "      <td>1</td>\n",
       "      <td>1</td>\n",
       "      <td>418000.0</td>\n",
       "      <td>4</td>\n",
       "      <td>3.0</td>\n",
       "      <td>4</td>\n",
       "      <td>0</td>\n",
       "      <td>0</td>\n",
       "      <td>0</td>\n",
       "      <td>0</td>\n",
       "      <td>...</td>\n",
       "      <td>0</td>\n",
       "      <td>0</td>\n",
       "      <td>0</td>\n",
       "      <td>1</td>\n",
       "      <td>0</td>\n",
       "      <td>0</td>\n",
       "      <td>0</td>\n",
       "      <td>0</td>\n",
       "      <td>1</td>\n",
       "      <td>12.943239</td>\n",
       "    </tr>\n",
       "    <tr>\n",
       "      <th>1</th>\n",
       "      <td>1</td>\n",
       "      <td>1</td>\n",
       "      <td>399000.0</td>\n",
       "      <td>4</td>\n",
       "      <td>2.0</td>\n",
       "      <td>3</td>\n",
       "      <td>0</td>\n",
       "      <td>0</td>\n",
       "      <td>0</td>\n",
       "      <td>0</td>\n",
       "      <td>...</td>\n",
       "      <td>0</td>\n",
       "      <td>0</td>\n",
       "      <td>0</td>\n",
       "      <td>1</td>\n",
       "      <td>0</td>\n",
       "      <td>0</td>\n",
       "      <td>0</td>\n",
       "      <td>1</td>\n",
       "      <td>0</td>\n",
       "      <td>12.896719</td>\n",
       "    </tr>\n",
       "    <tr>\n",
       "      <th>2</th>\n",
       "      <td>0</td>\n",
       "      <td>1</td>\n",
       "      <td>331990.0</td>\n",
       "      <td>2</td>\n",
       "      <td>1.0</td>\n",
       "      <td>2</td>\n",
       "      <td>0</td>\n",
       "      <td>0</td>\n",
       "      <td>0</td>\n",
       "      <td>0</td>\n",
       "      <td>...</td>\n",
       "      <td>0</td>\n",
       "      <td>0</td>\n",
       "      <td>0</td>\n",
       "      <td>1</td>\n",
       "      <td>0</td>\n",
       "      <td>0</td>\n",
       "      <td>0</td>\n",
       "      <td>1</td>\n",
       "      <td>0</td>\n",
       "      <td>12.712863</td>\n",
       "    </tr>\n",
       "    <tr>\n",
       "      <th>3</th>\n",
       "      <td>1</td>\n",
       "      <td>1</td>\n",
       "      <td>364990.0</td>\n",
       "      <td>3</td>\n",
       "      <td>3.0</td>\n",
       "      <td>3</td>\n",
       "      <td>0</td>\n",
       "      <td>0</td>\n",
       "      <td>0</td>\n",
       "      <td>0</td>\n",
       "      <td>...</td>\n",
       "      <td>0</td>\n",
       "      <td>0</td>\n",
       "      <td>0</td>\n",
       "      <td>1</td>\n",
       "      <td>0</td>\n",
       "      <td>0</td>\n",
       "      <td>0</td>\n",
       "      <td>0</td>\n",
       "      <td>1</td>\n",
       "      <td>12.807628</td>\n",
       "    </tr>\n",
       "    <tr>\n",
       "      <th>4</th>\n",
       "      <td>1</td>\n",
       "      <td>1</td>\n",
       "      <td>320000.0</td>\n",
       "      <td>3</td>\n",
       "      <td>3.0</td>\n",
       "      <td>2</td>\n",
       "      <td>0</td>\n",
       "      <td>0</td>\n",
       "      <td>0</td>\n",
       "      <td>0</td>\n",
       "      <td>...</td>\n",
       "      <td>0</td>\n",
       "      <td>0</td>\n",
       "      <td>0</td>\n",
       "      <td>1</td>\n",
       "      <td>0</td>\n",
       "      <td>0</td>\n",
       "      <td>0</td>\n",
       "      <td>1</td>\n",
       "      <td>1</td>\n",
       "      <td>12.676079</td>\n",
       "    </tr>\n",
       "  </tbody>\n",
       "</table>\n",
       "<p>5 rows × 51 columns</p>\n",
       "</div>"
      ],
      "text/plain": [
       "   status  fireplace    target  beds_clean  sqft_category_encoded  \\\n",
       "0       1          1  418000.0           4                    3.0   \n",
       "1       1          1  399000.0           4                    2.0   \n",
       "2       0          1  331990.0           2                    1.0   \n",
       "3       1          1  364990.0           3                    3.0   \n",
       "4       1          1  320000.0           3                    3.0   \n",
       "\n",
       "   baths_clean  state_0  state_1  state_2  state_3  ...  \\\n",
       "0            4        0        0        0        0  ...   \n",
       "1            3        0        0        0        0  ...   \n",
       "2            2        0        0        0        0  ...   \n",
       "3            3        0        0        0        0  ...   \n",
       "4            2        0        0        0        0  ...   \n",
       "\n",
       "   type__mobile manufactured  type__multi family home  type__other  \\\n",
       "0                          0                        0            0   \n",
       "1                          0                        0            0   \n",
       "2                          0                        0            0   \n",
       "3                          0                        0            0   \n",
       "4                          0                        0            0   \n",
       "\n",
       "   type__single family home  street_type_0  street_type_1  street_type_2  \\\n",
       "0                         1              0              0              0   \n",
       "1                         1              0              0              0   \n",
       "2                         1              0              0              0   \n",
       "3                         1              0              0              0   \n",
       "4                         1              0              0              0   \n",
       "\n",
       "   street_type_3  street_type_4  target_log  \n",
       "0              0              1   12.943239  \n",
       "1              1              0   12.896719  \n",
       "2              1              0   12.712863  \n",
       "3              0              1   12.807628  \n",
       "4              1              1   12.676079  \n",
       "\n",
       "[5 rows x 51 columns]"
      ]
     },
     "execution_count": 85,
     "metadata": {},
     "output_type": "execute_result"
    }
   ],
   "source": [
    "df1 = pd.read_csv(r'D:\\Skillfactory\\MATH_1\\cleaned_and_transformed_data.csv')\n",
    "df = df1.copy()\n",
    "df.head()"
   ]
  },
  {
   "cell_type": "code",
   "execution_count": 86,
   "id": "7a49613c",
   "metadata": {},
   "outputs": [
    {
     "data": {
      "text/plain": [
       "(320680, 51)"
      ]
     },
     "execution_count": 86,
     "metadata": {},
     "output_type": "execute_result"
    }
   ],
   "source": [
    "df.shape\n"
   ]
  },
  {
   "cell_type": "markdown",
   "id": "14bb5087",
   "metadata": {},
   "source": [
    "Все хорошо, идем дольше.\n",
    "\n",
    "Формируем: \n",
    "1. матрицу наблюдений X   \n",
    "2. вектор целевой переменной y и его логарифм y_log.      \n",
    "В матрицу наблюдений войдут все столбцы из таблицы с недвижимотью за исключением целевого признака target и его логарифмированной версии target_log:"
   ]
  },
  {
   "cell_type": "code",
   "execution_count": 87,
   "id": "00a75413",
   "metadata": {},
   "outputs": [],
   "source": [
    "X = df.drop(['target', 'target_log'], axis=1)\n",
    "y = df['target']\n",
    "y_log = df['target_log']"
   ]
  },
  {
   "cell_type": "markdown",
   "id": "6765d425",
   "metadata": {},
   "source": [
    "\n",
    "Также добавить стратификауию - потому как у нас малый процент дорогого жилья. нужно сохранить баланс выборок. \n",
    "Но➡️ stratify можно использовать только с категориальными или дискретными признаками, а не с непрерывной логарифмированной ценой (y_log).\n",
    "\n",
    "Так как y_log — непрерывная переменная, нужно сначала разбить её на категории, например, по квантилям. Это создаст категориальную версию, по которой можно стратифицировать."
   ]
  },
  {
   "cell_type": "code",
   "execution_count": 88,
   "id": "b0f254c6",
   "metadata": {},
   "outputs": [
    {
     "name": "stdout",
     "output_type": "stream",
     "text": [
      "Train: (224476, 49) (224476,)\n",
      "Valid: (96204, 49) (96204,)\n"
     ]
    }
   ],
   "source": [
    "y_log_strata = pd.qcut(y_log, q=5, labels=False)\n",
    "\n",
    "# Сплит с учетом стратификации\n",
    "X_train, X_valid, y_train_log, y_valid_log = train_test_split(\n",
    "    X, y_log,\n",
    "    test_size=0.30,\n",
    "    random_state=42,\n",
    "    stratify=y_log_strata  # Стратификация по ценовым категориям\n",
    ")\n",
    "\n",
    "# Проверка\n",
    "print(\"Train:\", X_train.shape, y_train_log.shape)\n",
    "print(\"Valid:\", X_valid.shape, y_valid_log.shape)"
   ]
  },
  {
   "cell_type": "markdown",
   "id": "5d3e3acd",
   "metadata": {},
   "source": [
    "У меня 320,680 строк. \n",
    "ВЫбираю. Hold-Out валидацию."
   ]
  },
  {
   "cell_type": "markdown",
   "id": "fc3ac536",
   "metadata": {},
   "source": [
    "Теперь переходим к столбцам. На данный момент у нас достаточно много признаков: скорее всего, не все из них будут важны. Давайте оставим лишь те, которые сильнее всего связаны с целевой переменной и точно будут вносить вклад в повышение качества модели.\n",
    "\n",
    "\n",
    "С помощью SelectKBest отботберем 357 признаков, наилучшим образом подходящих для предсказания целевой переменной в логарифмическом масштабе. Отбор реализуем по обучающей выборке, используя параметр      \n",
    "**score_func = f_regression.**\n",
    "\n"
   ]
  },
  {
   "cell_type": "code",
   "execution_count": 89,
   "id": "7f4bfe57",
   "metadata": {},
   "outputs": [],
   "source": [
    "# Инициализируем SelectKBest и применяем отбор признаков\n",
    "selector = SelectKBest(score_func=f_regression, k=35)\n",
    "selector.fit(X_train, y_train_log)  # Отбор признаков\n",
    "\n",
    "# Получаем список отобранных признаков\n",
    "selected_features = X_train.columns[selector.get_support()]\n",
    "\n",
    "# Преобразуем обучающую и валидационную выборки с учетом отобранных признаков\n",
    "X_train_selected = X_train[selected_features]\n",
    "X_valid_selected = X_valid[selected_features]"
   ]
  },
  {
   "cell_type": "code",
   "execution_count": 90,
   "id": "cab91b77",
   "metadata": {},
   "outputs": [
    {
     "name": "stdout",
     "output_type": "stream",
     "text": [
      "Index(['status', 'fireplace', 'beds_clean', 'sqft_category_encoded',\n",
      "       'baths_clean', 'state_1', 'state_2', 'state_3', 'state_4', 'state_5',\n",
      "       'mean_rating_schools', 'median_distance_schools',\n",
      "       'total_num_grades_schools', 'heating_electric', 'heating_forced_air',\n",
      "       'heating_other', 'heating_radiant', 'cooling_central',\n",
      "       'cooling_unclear_cooling', 'cooling_unit', 'stories_encoded',\n",
      "       'parking_driveway', 'parking_garage', 'parking_multi_space',\n",
      "       'parking_other', 'parking_street', 'lot_size_encoded',\n",
      "       'building_age_encoded', 'type__apartment', 'type__house', 'type__lot',\n",
      "       'type__mobile manufactured', 'type__multi family home', 'street_type_1',\n",
      "       'street_type_4'],\n",
      "      dtype='object')\n"
     ]
    }
   ],
   "source": [
    "print(selected_features)\n"
   ]
  },
  {
   "cell_type": "markdown",
   "id": "5babefcc",
   "metadata": {},
   "source": [
    "Отлично!\n",
    "Заранее позаботимся о масштабировании факторов. \n",
    "Я выбрала StandardScaler, так как у нас оставались небольшие выбросы внутри категории по типу недвижимости. \n",
    "Чтобы избежать разбалансировки масштабов."
   ]
  },
  {
   "cell_type": "code",
   "execution_count": 91,
   "id": "2a76ce7b",
   "metadata": {},
   "outputs": [],
   "source": [
    "scaler = StandardScaler()\n",
    "# Обучаем scaler тольько на тренировочных данных\n",
    "scaler.fit(X_train_selected)\n",
    "\n",
    "# а применяем трансформацию к train и valid\n",
    "X_train_scaled_df = scaler.transform(X_train_selected)\n",
    "X_valid_scaled_df = scaler.transform(X_valid_selected)\n",
    "\n",
    "#  Преобразуем в DataFrame с сохранением имён колонок\n",
    "X_train_scaled = pd.DataFrame(X_train_scaled_df, columns=X_train_selected.columns, index=X_train_selected.index)\n",
    "X_valid_scaled = pd.DataFrame(X_valid_scaled_df, columns=X_valid_selected.columns, index=X_valid_selected.index)\n"
   ]
  },
  {
   "cell_type": "markdown",
   "id": "9461cc77",
   "metadata": {},
   "source": [
    "# Решение задачи регрессии"
   ]
  },
  {
   "cell_type": "markdown",
   "id": "8e3697b6",
   "metadata": {},
   "source": [
    "У нас есть целевая переменная числоваяю. Будем строить модель с учителем.\n",
    "\n",
    "Определим метрику, по которой мы будем измерять качество наших моделей.\n",
    "RMSLE \n",
    "\n",
    "Заметим, что логарифмирование целевого признака мы уже провели заранее, поэтому нам будет достаточно вычислить метрику RMSE для модели, обученной прогнозировать цену недвижимости в логарифмическом масштабе:\n"
   ]
  },
  {
   "cell_type": "code",
   "execution_count": null,
   "id": "8940a21a",
   "metadata": {},
   "outputs": [
    {
     "name": "stdout",
     "output_type": "stream",
     "text": [
      "📊 Метрикa (логарифмированная цель):\n",
      " \n",
      "RMSLE на тренировочной выборке:      0.61\n",
      "RMSLE на валидационной выборке:      0.61\n",
      " \n"
     ]
    }
   ],
   "source": [
    "# Инициализируем и обучаем базовую модель\n",
    "lr_model = LinearRegression()\n",
    "lr_model.fit(X_train_scaled, y_train_log)\n",
    "\n",
    "# Предсказания\n",
    "y_train_pred = lr_model.predict(X_train_scaled)\n",
    "y_valid_pred = lr_model.predict(X_valid_scaled)\n",
    "\n",
    "# RMSLE (на логарифмированной цели)\n",
    "rmsle_train = np.sqrt(mean_squared_error(y_train_log, y_train_pred))\n",
    "rmsle_valid = np.sqrt(mean_squared_error(y_valid_log, y_valid_pred))\n",
    "\n",
    "# Округляем\n",
    "print(\"📊 Метрикa (логарифмированная цель):\\n \")\n",
    "print(f\"RMSLE на тренировочной выборке:      {rmsle_train:.2f}\")\n",
    "print(f\"RMSLE на валидационной выборке:      {rmsle_valid:.2f}\\n \")\n"
   ]
  },
  {
   "cell_type": "markdown",
   "id": "317f0de5",
   "metadata": {},
   "source": [
    "Посчитаем RMSE в обычном масштабе (в долларах) — то есть после обратного преобразования np.exp()"
   ]
  },
  {
   "cell_type": "code",
   "execution_count": 93,
   "id": "7fa6ef3b",
   "metadata": {},
   "outputs": [
    {
     "name": "stdout",
     "output_type": "stream",
     "text": [
      "\n",
      "📊 Метрики в масштабе реальных цен (доллары):\n",
      "\n",
      "RMSE на тренировочной выборке:      $293,535\n",
      "RMSE на валидационной выборке:      $290,481\n",
      "\n"
     ]
    }
   ],
   "source": [
    "y_train_pred_real = np.exp(y_train_pred)\n",
    "y_valid_pred_real = np.exp(y_valid_pred)\n",
    "y_train_real = np.exp(y_train_log)\n",
    "y_valid_real = np.exp(y_valid_log)\n",
    "\n",
    "# Метрики в масштабе цен\n",
    "rmse_train_real = mean_squared_error(y_train_real, y_train_pred_real, squared=False)\n",
    "rmse_valid_real = mean_squared_error(y_valid_real, y_valid_pred_real, squared=False)\n",
    "\n",
    "print(\"\\n📊 Метрики в масштабе реальных цен (доллары):\\n\")\n",
    "print(f\"RMSE на тренировочной выборке:      ${rmse_train_real:,.0f}\")\n",
    "print(f\"RMSE на валидационной выборке:      ${rmse_valid_real:,.0f}\\n\")"
   ]
  },
  {
   "cell_type": "markdown",
   "id": "0e85ce24",
   "metadata": {},
   "source": [
    "* В среднем модель отклоняется от реальной цены на ~293 тыс. на обучающей выборке\n",
    "* На валидации — тоже около ~292 тыс., что говорит об отсутствии переобучения.\n",
    "\n",
    "Посмотрим на статистические данные по целевой target"
   ]
  },
  {
   "cell_type": "code",
   "execution_count": 94,
   "id": "fdbd03e0",
   "metadata": {},
   "outputs": [
    {
     "data": {
      "text/plain": [
       "count    3.206800e+05\n",
       "mean     4.001762e+05\n",
       "std      3.897190e+05\n",
       "min      1.000000e+04\n",
       "25%      1.890000e+05\n",
       "50%      2.999950e+05\n",
       "75%      4.888880e+05\n",
       "max      5.360000e+06\n",
       "Name: target, dtype: float64"
      ]
     },
     "execution_count": 94,
     "metadata": {},
     "output_type": "execute_result"
    }
   ],
   "source": [
    "df1.target.describe()"
   ]
  },
  {
   "cell_type": "markdown",
   "id": "f1da212d",
   "metadata": {},
   "source": [
    "* Средняя цена (mean): ~$400,000\n",
    "* Медиана (50%): ~$300,000\n",
    "* Макс: $5,360,000\n",
    "\n",
    "Ошибка в ~292,000 — это много, особенно если учитывать, что половина домов стоят меньше 300,000.\n",
    "Но — это базовая линейная модель, она не может «гнуться» под сложные зависимости. Это ожидаемо."
   ]
  },
  {
   "cell_type": "markdown",
   "id": "8b334492",
   "metadata": {},
   "source": [
    "Усложним модель. Построим модель полиномиальной регрессии 2-ой степени на обучающей выборке"
   ]
  },
  {
   "cell_type": "code",
   "execution_count": 96,
   "id": "18a0cfc9",
   "metadata": {},
   "outputs": [
    {
     "name": "stdout",
     "output_type": "stream",
     "text": [
      "📊 Полиномиальная регрессия (2-я степень):\n",
      "\n",
      "RMSLE на тренировочной выборке:     0.54\n",
      "RMSLE на валидационной выборке:     0.54\n"
     ]
    }
   ],
   "source": [
    "# 1. Генерация полиномиальных признаков степени 2\n",
    "poly = PolynomialFeatures(degree=2, include_bias=False)\n",
    "X_train_poly = poly.fit_transform(X_train_scaled)\n",
    "X_valid_poly = poly.transform(X_valid_scaled)\n",
    "\n",
    "# 2. Обучение модели\n",
    "poly_model = LinearRegression()\n",
    "poly_model.fit(X_train_poly, y_train_log)\n",
    "\n",
    "# 3. Предсказания\n",
    "y_train_pred = poly_model.predict(X_train_poly)\n",
    "y_valid_pred = poly_model.predict(X_valid_poly)\n",
    "\n",
    "# 4. Метрики (логарифмированная цель)\n",
    "rmsle_train = np.sqrt(mean_squared_error(y_train_log, y_train_pred))\n",
    "rmsle_valid = np.sqrt(mean_squared_error(y_valid_log, y_valid_pred))\n",
    "\n",
    "print(\"📊 Полиномиальная регрессия (2-я степень):\\n\")\n",
    "print(f\"RMSLE на тренировочной выборке:     {rmsle_train:.2f}\")\n",
    "print(f\"RMSLE на валидационной выборке:     {rmsle_valid:.2f}\")\n"
   ]
  },
  {
   "cell_type": "markdown",
   "id": "4bb468e8",
   "metadata": {},
   "source": [
    "Как и в прошлый раз переобучение в модели не наблюдается. Но  при этом ошибка стала меньше. "
   ]
  },
  {
   "cell_type": "markdown",
   "id": "97d0791a",
   "metadata": {},
   "source": [
    "Добавим к нашей полиномиальной регрессии 2-й степени, L2-регуляризацию (модель Ridge) "
   ]
  },
  {
   "cell_type": "code",
   "execution_count": null,
   "id": "a836881b",
   "metadata": {},
   "outputs": [
    {
     "name": "stdout",
     "output_type": "stream",
     "text": [
      "📊 Полиномиальная регрессия с L2-регуляризацией (α=1):\n",
      "\n",
      "RMSLE на тренировочной выборке:     0.54\n",
      "RMSLE на валидационной выборке:     0.54\n"
     ]
    }
   ],
   "source": [
    "\n",
    "# Генерация полиномиальных признаков степени 2\n",
    "poly = PolynomialFeatures(degree=2, include_bias=False)\n",
    "X_train_poly = poly.fit_transform(X_train_scaled)\n",
    "X_valid_poly = poly.transform(X_valid_scaled)\n",
    "\n",
    "# Инициализация Ridge-регрессии с регуляризацией L2 (α=1)\n",
    "ridge_model = Ridge(alpha=1)\n",
    "\n",
    "# Обучение модели\n",
    "ridge_model.fit(X_train_poly, y_train_log)\n",
    "\n",
    "# Предсказания\n",
    "y_train_pred = ridge_model.predict(X_train_poly)\n",
    "y_valid_pred = ridge_model.predict(X_valid_poly)\n",
    "\n",
    "# RMSLE (на логарифмированной целевой переменной)\n",
    "rmsle_train = np.sqrt(mean_squared_error(y_train_log, y_train_pred))\n",
    "rmsle_valid = np.sqrt(mean_squared_error(y_valid_log, y_valid_pred))\n",
    "\n",
    "# вывод\n",
    "print(\"📊 Полиномиальная регрессия с L2-регуляризацией (α=1):\\n\")\n",
    "print(f\"RMSLE на тренировочной выборке:     {rmsle_train:.2f}\")\n",
    "print(f\"RMSLE на валидационной выборке:     {rmsle_valid:.2f}\")"
   ]
  },
  {
   "cell_type": "markdown",
   "id": "2433ff9f",
   "metadata": {},
   "source": [
    "Тот же результат. Попробуем найти оптимальную альфа."
   ]
  },
  {
   "cell_type": "code",
   "execution_count": null,
   "id": "a6b969c0",
   "metadata": {},
   "outputs": [
    {
     "name": "stdout",
     "output_type": "stream",
     "text": [
      "🔍 Лучшее alpha: 100\n",
      "📉 RMSLE на валидации: 0.5416\n"
     ]
    }
   ],
   "source": [
    "def tune_ridge_alpha(X_train_scaled, y_train_log, X_valid_scaled, y_valid_log, alpha_list):\n",
    "    # 1. Генерируем полиномиальные признаки\n",
    "    poly = PolynomialFeatures(degree=2, include_bias=False)\n",
    "    X_train_poly = poly.fit_transform(X_train_scaled)\n",
    "    X_valid_poly = poly.transform(X_valid_scaled)\n",
    "\n",
    "    best_alpha = None\n",
    "    best_rmsle = float('inf')\n",
    "    results = []\n",
    "\n",
    "    # 2. Перебираем значения alpha\n",
    "    for alpha in alpha_list:\n",
    "        model = Ridge(alpha=alpha)\n",
    "        model.fit(X_train_poly, y_train_log)\n",
    "\n",
    "        y_valid_pred = model.predict(X_valid_poly)\n",
    "        rmsle = np.sqrt(mean_squared_error(y_valid_log, y_valid_pred))\n",
    "\n",
    "        results.append((alpha, rmsle))\n",
    "\n",
    "        if rmsle < best_rmsle:\n",
    "            best_rmsle = rmsle\n",
    "            best_alpha = alpha\n",
    "            best_model = model\n",
    "\n",
    "    # 3. Выводим лучшие результаты\n",
    "    print(f\"🔍 Лучшее alpha: {best_alpha}\")\n",
    "    print(f\"📉 RMSLE на валидации: {best_rmsle:.4f}\")\n",
    "\n",
    "    return best_model, best_alpha, results,\n",
    "\n",
    "\n",
    "# Задаём список alpha\n",
    "alpha_values = [0.01, 0.1, 0.5, 1, 5, 10, 50, 100]\n",
    "\n",
    "# Запускаем подбор\n",
    "best_model, best_alpha, ridge_results = tune_ridge_alpha(X_train_scaled, y_train_log, X_valid_scaled, y_valid_log, alpha_values)\n"
   ]
  },
  {
   "cell_type": "markdown",
   "id": "d600a1aa",
   "metadata": {},
   "source": [
    "Не сильно меняется значение от перемены альфы. Поэтому оставляем как есть."
   ]
  },
  {
   "cell_type": "markdown",
   "id": "e81cab0a",
   "metadata": {},
   "source": [
    "## Перейдем к задачам деревья решений"
   ]
  },
  {
   "cell_type": "code",
   "execution_count": null,
   "id": "6364d371",
   "metadata": {},
   "outputs": [
    {
     "name": "stdout",
     "output_type": "stream",
     "text": [
      "RMSLE на тренировочной выборке: 0.15\n",
      "RMSLE на валидационной выборке: 0.56\n"
     ]
    }
   ],
   "source": [
    "\n",
    "# Инициализация модели с параметром random_state\n",
    "tree_model = DecisionTreeRegressor(random_state=42)\n",
    "\n",
    "# Обучаем модель на нормализованных данных\n",
    "tree_model.fit(X_train_scaled, y_train_log)\n",
    "\n",
    "# Предсказания на тренировочной и валидационной выборках\n",
    "y_train_pred = tree_model.predict(X_train_scaled)\n",
    "y_valid_pred = tree_model.predict(X_valid_scaled)\n",
    "\n",
    "# Рассчитываем метрику RMSLE\n",
    "rmsle_train = np.sqrt(mean_squared_error(y_train_log, y_train_pred))\n",
    "rmsle_valid = np.sqrt(mean_squared_error(y_valid_log, y_valid_pred))\n",
    "\n",
    "# Округляем до двух знаков\n",
    "rmsle_train = round(rmsle_train, 2)\n",
    "rmsle_valid = round(rmsle_valid, 2)\n",
    "\n",
    "# Выводим результаты\n",
    "print(f\"RMSLE на тренировочной выборке: {rmsle_train}\")\n",
    "print(f\"RMSLE на валидационной выборке: {rmsle_valid}\")\n"
   ]
  },
  {
   "cell_type": "markdown",
   "id": "463d748b",
   "metadata": {},
   "source": [
    "На лицо переобучение. Дерево решений слишком гибкое.\n",
    "Оно запомнило обучающую выборку почти «наизусть»\n",
    "А на новых данных (валидации) теряет обобщающую способность."
   ]
  },
  {
   "cell_type": "markdown",
   "id": "7783dd96",
   "metadata": {},
   "source": [
    "✅Ищем оптимальную глубину дерева. Диапазон поиска от 4 до 20:\n",
    "max_depths = range(4, 20)\n",
    "Сразу построим линейные графики изменения метрики RMSE на тренировочной и валидационной выборках в зависимости от значения параметра глубины дерева решений. \n"
   ]
  },
  {
   "cell_type": "code",
   "execution_count": null,
   "id": "3cfaae8b",
   "metadata": {},
   "outputs": [
    {
     "data": {
      "image/png": "[encoded data removed]",
      "text/plain": [
       "<Figure size 1000x600 with 1 Axes>"
      ]
     },
     "metadata": {},
     "output_type": "display_data"
    },
    {
     "name": "stdout",
     "output_type": "stream",
     "text": [
      "Оптимальная глубина дерева решений: 16\n"
     ]
    }
   ],
   "source": [
    "# Диапазон глубины дерева\n",
    "max_depths = range(8, 20)\n",
    "\n",
    "# Списки для хранения результатов\n",
    "rmsle_train = []\n",
    "rmsle_valid = []\n",
    "\n",
    "# Перебор всех значений max_depth\n",
    "for depth in max_depths:\n",
    "    # Инициализация модели дерева решений с заданной глубиной\n",
    "    tree_model = DecisionTreeRegressor(max_depth=depth, random_state=42)\n",
    "    \n",
    "    # Обучаем модель\n",
    "    tree_model.fit(X_train_scaled, y_train_log)\n",
    "    \n",
    "    # Предсказания на тренировочной и валидационной выборках\n",
    "    y_train_pred = tree_model.predict(X_train_scaled)\n",
    "    y_valid_pred = tree_model.predict(X_valid_scaled)\n",
    "    \n",
    "    # Рассчитываем RMSLE\n",
    "    rmsle_train.append(np.sqrt(mean_squared_error(y_train_log, y_train_pred)))\n",
    "    rmsle_valid.append(np.sqrt(mean_squared_error(y_valid_log, y_valid_pred)))\n",
    "\n",
    "# Строим линейные графики для RMSLE на тренировочной и валидационной выборках\n",
    "plt.figure(figsize=(10, 6))\n",
    "plt.plot(max_depths, rmsle_train, label='Тренировочная выборка', marker='o')\n",
    "plt.plot(max_depths, rmsle_valid, label='Валидационная выборка', marker='o')\n",
    "plt.xlabel('Глубина дерева (max_depth)')\n",
    "plt.ylabel('RMSLE')\n",
    "plt.title('Изменение RMSLE в зависимости от глубины дерева решений')\n",
    "plt.legend()\n",
    "plt.grid(True)\n",
    "plt.show()\n",
    "\n",
    "# Определение оптимальной глубины дерева (первое значение, при котором валидационная ошибка начинает возрастать)\n",
    "optimal_depth = max_depths[np.argmin(rmsle_valid)]\n",
    "print(f\"Оптимальная глубина дерева решений: {optimal_depth}\")\n"
   ]
  },
  {
   "cell_type": "code",
   "execution_count": null,
   "id": "98c00247",
   "metadata": {},
   "outputs": [
    {
     "name": "stdout",
     "output_type": "stream",
     "text": [
      "RMSLE на тренировочной выборке: 0.41\n",
      "RMSLE на валидационной выборке: 0.51\n"
     ]
    }
   ],
   "source": [
    "# Инициализация модели с параметром random_state\n",
    "tree_model = DecisionTreeRegressor(max_depth=16, random_state=42)\n",
    "\n",
    "# Обучаем модель на нормализованных данных\n",
    "tree_model.fit(X_train_scaled, y_train_log)\n",
    "\n",
    "# Предсказания на тренировочной и валидационной выборках\n",
    "y_train_pred = tree_model.predict(X_train_scaled)\n",
    "y_valid_pred = tree_model.predict(X_valid_scaled)\n",
    "\n",
    "# Рассчитываем метрику RMSLE\n",
    "rmsle_train = np.sqrt(mean_squared_error(y_train_log, y_train_pred))\n",
    "rmsle_valid = np.sqrt(mean_squared_error(y_valid_log, y_valid_pred))\n",
    "\n",
    "# Округляем до двух знаков\n",
    "rmsle_train = round(rmsle_train, 2)\n",
    "rmsle_valid = round(rmsle_valid, 2)\n",
    "\n",
    "# Выводим результаты\n",
    "print(f\"RMSLE на тренировочной выборке: {rmsle_train}\")\n",
    "print(f\"RMSLE на валидационной выборке: {rmsle_valid}\")"
   ]
  },
  {
   "cell_type": "markdown",
   "id": "6564ad26",
   "metadata": {},
   "source": [
    "Сбалансировались лучше выборки. Попробую добавить еще параметров и прогнать их  через Optuna"
   ]
  },
  {
   "cell_type": "code",
   "execution_count": 118,
   "id": "3db54740",
   "metadata": {},
   "outputs": [
    {
     "name": "stderr",
     "output_type": "stream",
     "text": [
      "[I 2025-07-08 12:02:05,611] A new study created in memory with name: no-name-dfd72798-afe5-4322-a4c3-59b6fcd23333\n",
      "[I 2025-07-08 12:02:14,669] Trial 0 finished with value: 0.5491105538000077 and parameters: {'max_depth': 9, 'min_samples_split': 2, 'min_samples_leaf': 4, 'max_features': None, 'ccp_alpha': 0.008030611050025142}. Best is trial 0 with value: 0.5491105538000077.\n",
      "[I 2025-07-08 12:02:14,847] Trial 1 finished with value: 0.5880536546869037 and parameters: {'max_depth': 11, 'min_samples_split': 47, 'min_samples_leaf': 14, 'max_features': 'log2', 'ccp_alpha': 0.004376244054205735}. Best is trial 0 with value: 0.5491105538000077.\n",
      "[I 2025-07-08 12:02:15,087] Trial 2 finished with value: 0.5711958555685962 and parameters: {'max_depth': 3, 'min_samples_split': 10, 'min_samples_leaf': 10, 'max_features': 'sqrt', 'ccp_alpha': 0.007793501565298533}. Best is trial 0 with value: 0.5491105538000077.\n",
      "[I 2025-07-08 12:02:15,303] Trial 3 finished with value: 0.5694655199869567 and parameters: {'max_depth': 12, 'min_samples_split': 16, 'min_samples_leaf': 4, 'max_features': 'log2', 'ccp_alpha': 0.004982533506144729}. Best is trial 0 with value: 0.5491105538000077.\n",
      "[I 2025-07-08 12:02:15,583] Trial 4 finished with value: 0.5711958555685962 and parameters: {'max_depth': 7, 'min_samples_split': 49, 'min_samples_leaf': 6, 'max_features': 'sqrt', 'ccp_alpha': 0.004878354162580946}. Best is trial 0 with value: 0.5491105538000077.\n",
      "[I 2025-07-08 12:02:16,829] Trial 5 finished with value: 0.5147997614253297 and parameters: {'max_depth': 6, 'min_samples_split': 25, 'min_samples_leaf': 18, 'max_features': None, 'ccp_alpha': 0.0018846372404154122}. Best is trial 5 with value: 0.5147997614253297.\n",
      "[I 2025-07-08 12:02:17,902] Trial 6 finished with value: 0.5366344559124357 and parameters: {'max_depth': 12, 'min_samples_split': 6, 'min_samples_leaf': 15, 'max_features': None, 'ccp_alpha': 0.005841541276944779}. Best is trial 5 with value: 0.5147997614253297.\n",
      "[I 2025-07-08 12:02:18,117] Trial 7 finished with value: 0.5880536546869037 and parameters: {'max_depth': 12, 'min_samples_split': 5, 'min_samples_leaf': 13, 'max_features': 'sqrt', 'ccp_alpha': 0.009995178579884132}. Best is trial 5 with value: 0.5147997614253297.\n",
      "[I 2025-07-08 12:02:19,133] Trial 8 finished with value: 0.5366344559124362 and parameters: {'max_depth': 17, 'min_samples_split': 40, 'min_samples_leaf': 4, 'max_features': None, 'ccp_alpha': 0.005847760262987}. Best is trial 5 with value: 0.5147997614253297.\n",
      "[I 2025-07-08 12:02:19,549] Trial 9 finished with value: 0.5645672573511222 and parameters: {'max_depth': 8, 'min_samples_split': 22, 'min_samples_leaf': 7, 'max_features': None, 'ccp_alpha': 0.008897910796001014}. Best is trial 5 with value: 0.5147997614253297.\n",
      "[I 2025-07-08 12:02:20,289] Trial 10 finished with value: 0.5491105538000081 and parameters: {'max_depth': 2, 'min_samples_split': 30, 'min_samples_leaf': 20, 'max_features': None, 'ccp_alpha': 0.0005798908902463513}. Best is trial 5 with value: 0.5147997614253297.\n",
      "[I 2025-07-08 12:02:21,361] Trial 11 finished with value: 0.5128230616275143 and parameters: {'max_depth': 17, 'min_samples_split': 30, 'min_samples_leaf': 19, 'max_features': None, 'ccp_alpha': 0.0017622708671772356}. Best is trial 11 with value: 0.5128230616275143.\n",
      "[I 2025-07-08 12:02:22,195] Trial 12 finished with value: 0.5060165549742649 and parameters: {'max_depth': 20, 'min_samples_split': 31, 'min_samples_leaf': 20, 'max_features': None, 'ccp_alpha': 0.0009484444730614331}. Best is trial 12 with value: 0.5060165549742649.\n",
      "[I 2025-07-08 12:02:23,351] Trial 13 finished with value: 0.5178665879817119 and parameters: {'max_depth': 20, 'min_samples_split': 34, 'min_samples_leaf': 20, 'max_features': None, 'ccp_alpha': 0.0024363706403900897}. Best is trial 12 with value: 0.5060165549742649.\n",
      "[I 2025-07-08 12:02:24,556] Trial 14 finished with value: 0.48849524442548153 and parameters: {'max_depth': 17, 'min_samples_split': 34, 'min_samples_leaf': 17, 'max_features': None, 'ccp_alpha': 0.00030432607008820927}. Best is trial 14 with value: 0.48849524442548153.\n",
      "[I 2025-07-08 12:02:24,798] Trial 15 finished with value: 0.5119232243601173 and parameters: {'max_depth': 20, 'min_samples_split': 40, 'min_samples_leaf': 16, 'max_features': 'log2', 'ccp_alpha': 5.256167998658089e-05}. Best is trial 14 with value: 0.48849524442548153.\n",
      "[I 2025-07-08 12:02:25,597] Trial 16 finished with value: 0.5228186480470013 and parameters: {'max_depth': 16, 'min_samples_split': 38, 'min_samples_leaf': 17, 'max_features': None, 'ccp_alpha': 0.0031805693903640894}. Best is trial 14 with value: 0.48849524442548153.\n",
      "[I 2025-07-08 12:02:27,196] Trial 17 finished with value: 0.5070522964614728 and parameters: {'max_depth': 15, 'min_samples_split': 23, 'min_samples_leaf': 11, 'max_features': None, 'ccp_alpha': 0.001004082494084744}. Best is trial 14 with value: 0.48849524442548153.\n",
      "[I 2025-07-08 12:02:27,631] Trial 18 finished with value: 0.5880536546869037 and parameters: {'max_depth': 18, 'min_samples_split': 17, 'min_samples_leaf': 12, 'max_features': 'log2', 'ccp_alpha': 0.0034718686105322497}. Best is trial 14 with value: 0.48849524442548153.\n",
      "[I 2025-07-08 12:02:28,003] Trial 19 finished with value: 0.5260472918675856 and parameters: {'max_depth': 14, 'min_samples_split': 31, 'min_samples_leaf': 1, 'max_features': 'sqrt', 'ccp_alpha': 0.0013573530999492023}. Best is trial 14 with value: 0.48849524442548153.\n",
      "[I 2025-07-08 12:02:28,959] Trial 20 finished with value: 0.4726700126048921 and parameters: {'max_depth': 19, 'min_samples_split': 35, 'min_samples_leaf': 17, 'max_features': None, 'ccp_alpha': 2.557382736144534e-05}. Best is trial 20 with value: 0.4726700126048921.\n",
      "[I 2025-07-08 12:02:29,732] Trial 21 finished with value: 0.4808369217420479 and parameters: {'max_depth': 19, 'min_samples_split': 35, 'min_samples_leaf': 17, 'max_features': None, 'ccp_alpha': 0.0002120884932344904}. Best is trial 20 with value: 0.4726700126048921.\n",
      "[I 2025-07-08 12:02:30,503] Trial 22 finished with value: 0.4900127988119664 and parameters: {'max_depth': 18, 'min_samples_split': 44, 'min_samples_leaf': 17, 'max_features': None, 'ccp_alpha': 0.00034898844253288024}. Best is trial 20 with value: 0.4726700126048921.\n",
      "[I 2025-07-08 12:02:31,202] Trial 23 finished with value: 0.5198113404861642 and parameters: {'max_depth': 14, 'min_samples_split': 36, 'min_samples_leaf': 15, 'max_features': None, 'ccp_alpha': 0.0026679762531814856}. Best is trial 20 with value: 0.4726700126048921.\n",
      "[I 2025-07-08 12:02:32,474] Trial 24 finished with value: 0.47405308211098807 and parameters: {'max_depth': 18, 'min_samples_split': 43, 'min_samples_leaf': 18, 'max_features': None, 'ccp_alpha': 6.133574509516922e-05}. Best is trial 20 with value: 0.4726700126048921.\n",
      "[I 2025-07-08 12:02:33,161] Trial 25 finished with value: 0.5159016389984247 and parameters: {'max_depth': 19, 'min_samples_split': 44, 'min_samples_leaf': 10, 'max_features': None, 'ccp_alpha': 0.00208922082368216}. Best is trial 20 with value: 0.4726700126048921.\n",
      "[I 2025-07-08 12:02:34,046] Trial 26 finished with value: 0.5107447900108343 and parameters: {'max_depth': 15, 'min_samples_split': 44, 'min_samples_leaf': 18, 'max_features': None, 'ccp_alpha': 0.0012366745996710015}. Best is trial 20 with value: 0.4726700126048921.\n",
      "[I 2025-07-08 12:02:34,617] Trial 27 finished with value: 0.5228186480470006 and parameters: {'max_depth': 19, 'min_samples_split': 50, 'min_samples_leaf': 14, 'max_features': None, 'ccp_alpha': 0.003399936242392598}. Best is trial 20 with value: 0.4726700126048921.\n",
      "[I 2025-07-08 12:02:34,976] Trial 28 finished with value: 0.4998288605703956 and parameters: {'max_depth': 18, 'min_samples_split': 41, 'min_samples_leaf': 18, 'max_features': 'sqrt', 'ccp_alpha': 9.746217896711792e-05}. Best is trial 20 with value: 0.4726700126048921.\n",
      "[I 2025-07-08 12:02:35,350] Trial 29 finished with value: 0.5880536546869037 and parameters: {'max_depth': 14, 'min_samples_split': 27, 'min_samples_leaf': 8, 'max_features': 'log2', 'ccp_alpha': 0.004139783808840494}. Best is trial 20 with value: 0.4726700126048921.\n"
     ]
    },
    {
     "name": "stdout",
     "output_type": "stream",
     "text": [
      "📌 Лучшие параметры (DT Optuna):\n",
      "{'max_depth': 19, 'min_samples_split': 35, 'min_samples_leaf': 17, 'max_features': None, 'ccp_alpha': 2.557382736144534e-05}\n",
      "\n",
      "🔹 RMSLE train (лог): 0.4226\n",
      "🔹 RMSLE valid (лог): 0.4727\n"
     ]
    }
   ],
   "source": [
    "import optuna\n",
    "from sklearn.tree import DecisionTreeRegressor\n",
    "from sklearn.metrics import mean_squared_error\n",
    "import numpy as np\n",
    "\n",
    "def dt_objective(trial):\n",
    "    params = {\n",
    "        'max_depth': trial.suggest_int('max_depth', 2, 20),\n",
    "        'min_samples_split': trial.suggest_int('min_samples_split', 2, 50),\n",
    "        'min_samples_leaf': trial.suggest_int('min_samples_leaf', 1, 20),\n",
    "        'max_features': trial.suggest_categorical('max_features', ['sqrt', 'log2', None]),\n",
    "        'ccp_alpha': trial.suggest_float('ccp_alpha', 0.0, 0.01),\n",
    "        'random_state': 42\n",
    "    }\n",
    "    model = DecisionTreeRegressor(**params)\n",
    "    model.fit(X_train_scaled, y_train_log)\n",
    "    preds = model.predict(X_valid_scaled)\n",
    "    return np.sqrt(mean_squared_error(y_valid_log, preds))\n",
    "\n",
    "# 1) Запускаем оптимизацию\n",
    "study_dt = optuna.create_study(direction='minimize')\n",
    "study_dt.optimize(dt_objective, n_trials=30)\n",
    "\n",
    "print(\"📌 Лучшие параметры (DT Optuna):\")\n",
    "print(study_dt.best_params)\n",
    "\n",
    "# 2) Обучаем финальную модель\n",
    "best_dt = DecisionTreeRegressor(**study_dt.best_params, random_state=42)\n",
    "best_dt.fit(X_train_scaled, y_train_log)\n",
    "\n",
    "# 3) Считаем и выводим RMSLE\n",
    "y_train_pred = best_dt.predict(X_train_scaled)\n",
    "y_valid_pred = best_dt.predict(X_valid_scaled)\n",
    "\n",
    "rmsle_train = np.sqrt(mean_squared_error(y_train_log, y_train_pred))\n",
    "rmsle_valid = np.sqrt(mean_squared_error(y_valid_log, y_valid_pred))\n",
    "\n",
    "print(f\"\\n🔹 RMSLE train (лог): {rmsle_train:.4f}\")\n",
    "print(f\"🔹 RMSLE valid (лог): {rmsle_valid:.4f}\")\n"
   ]
  },
  {
   "cell_type": "markdown",
   "id": "3ac2a431",
   "metadata": {},
   "source": [
    "Удивительно. Лучшие параметры по глубине по  Optuna и по графику выше отличаются.\n",
    "В общем, с дополнительными параметрами + автоматически подогнаными, результат стал намного лучше.\n",
    "и самое главное,  разница на тренировочной и валидационной выборках  очень маленькая.\n"
   ]
  },
  {
   "cell_type": "markdown",
   "id": "1e1f7922",
   "metadata": {},
   "source": [
    "### Перейдем к моделям посложнее."
   ]
  },
  {
   "cell_type": "markdown",
   "id": "6b204a6d",
   "metadata": {},
   "source": [
    "#### Начнем с случайных деревьев. Сразу выполню поиск параметрам по gridsearch."
   ]
  },
  {
   "cell_type": "code",
   "execution_count": null,
   "id": "5dbaf3e8",
   "metadata": {},
   "outputs": [
    {
     "name": "stdout",
     "output_type": "stream",
     "text": [
      "Fitting 3 folds for each of 36 candidates, totalling 108 fits\n",
      "🔍 Лучшие параметры: {'max_depth': 20, 'max_features': None, 'min_samples_split': 2, 'n_estimators': 200}\n",
      "\n",
      "RMSLE на тренировочной выборке:     0.30\n",
      "RMSLE на валидационной выборке:     0.43\n"
     ]
    }
   ],
   "source": [
    "def rmsle(y_true, y_pred):\n",
    "    return np.sqrt(mean_squared_error(y_true, y_pred))\n",
    "\n",
    "rmsle_scorer = make_scorer(rmsle, greater_is_better=False)\n",
    "\n",
    "# Сетка параметров для Random Forest\n",
    "param_grid = {\n",
    "    'n_estimators': [100, 200],\n",
    "    'max_depth': [12, 16, 20],\n",
    "    'min_samples_split': [2, 10],\n",
    "    'max_features': ['sqrt', 'log2', None]\n",
    "}\n",
    "\n",
    "# Инициализируем модель\n",
    "rf = RandomForestRegressor(random_state=42, criterion='squared_error')\n",
    "\n",
    "# GridSearchCV\n",
    "grid_search_rf = GridSearchCV(\n",
    "    estimator=rf,\n",
    "    param_grid=param_grid,\n",
    "    scoring=rmsle_scorer,\n",
    "    cv=3,\n",
    "    n_jobs=-1,\n",
    "    verbose=1\n",
    ")\n",
    "\n",
    "# Обучение\n",
    "grid_search_rf.fit(X_train_scaled, y_train_log)\n",
    "\n",
    "# Лучшая модель\n",
    "best_rf = grid_search_rf.best_estimator_\n",
    "\n",
    "# Предсказания\n",
    "y_train_pred = best_rf.predict(X_train_scaled)\n",
    "y_valid_pred = best_rf.predict(X_valid_scaled)\n",
    "\n",
    "# RMSLE\n",
    "rmsle_train = np.sqrt(mean_squared_error(y_train_log, y_train_pred))\n",
    "rmsle_valid = np.sqrt(mean_squared_error(y_valid_log, y_valid_pred))\n",
    "\n",
    "# Округление\n",
    "print(\"🔍 Лучшие параметры:\", grid_search_rf.best_params_)\n",
    "print(f\"\\nRMSLE на тренировочной выборке:     {rmsle_train:.2f}\")\n",
    "print(f\"RMSLE на валидационной выборке:     {rmsle_valid:.2f}\")\n"
   ]
  },
  {
   "cell_type": "markdown",
   "id": "b0c0fe7a",
   "metadata": {},
   "source": [
    "Прогоним параметры через Optuna. "
   ]
  },
  {
   "cell_type": "code",
   "execution_count": null,
   "id": "ec66b3e9",
   "metadata": {},
   "outputs": [
    {
     "name": "stderr",
     "output_type": "stream",
     "text": [
      "[I 2025-07-08 03:02:29,370] A new study created in memory with name: no-name-c63ce184-04a5-4986-9b4a-9dd1b6278647\n",
      "[I 2025-07-08 03:02:33,805] Trial 0 finished with value: 0.47286663545516605 and parameters: {'n_estimators': 128, 'max_depth': 12, 'min_samples_split': 10, 'max_features': 'log2'}. Best is trial 0 with value: 0.47286663545516605.\n",
      "[I 2025-07-08 03:02:38,153] Trial 1 finished with value: 0.4711842737818434 and parameters: {'n_estimators': 127, 'max_depth': 12, 'min_samples_split': 2, 'max_features': 'log2'}. Best is trial 1 with value: 0.4711842737818434.\n",
      "[I 2025-07-08 03:02:44,528] Trial 2 finished with value: 0.4629896299852885 and parameters: {'n_estimators': 172, 'max_depth': 13, 'min_samples_split': 2, 'max_features': 'log2'}. Best is trial 2 with value: 0.4629896299852885.\n",
      "[I 2025-07-08 03:02:49,694] Trial 3 finished with value: 0.45658542619924236 and parameters: {'n_estimators': 129, 'max_depth': 13, 'min_samples_split': 8, 'max_features': 'sqrt'}. Best is trial 3 with value: 0.45658542619924236.\n",
      "[I 2025-07-08 03:02:55,739] Trial 4 finished with value: 0.4511636621136625 and parameters: {'n_estimators': 138, 'max_depth': 14, 'min_samples_split': 6, 'max_features': 'sqrt'}. Best is trial 4 with value: 0.4511636621136625.\n",
      "[I 2025-07-08 03:03:37,838] Trial 5 finished with value: 0.4331090933530437 and parameters: {'n_estimators': 171, 'max_depth': 18, 'min_samples_split': 3, 'max_features': None}. Best is trial 5 with value: 0.4331090933530437.\n",
      "[I 2025-07-08 03:03:54,604] Trial 6 finished with value: 0.4372201727848111 and parameters: {'n_estimators': 107, 'max_depth': 15, 'min_samples_split': 10, 'max_features': None}. Best is trial 5 with value: 0.4331090933530437.\n",
      "[I 2025-07-08 03:04:14,275] Trial 7 finished with value: 0.43702399609942716 and parameters: {'n_estimators': 120, 'max_depth': 15, 'min_samples_split': 10, 'max_features': None}. Best is trial 5 with value: 0.4331090933530437.\n",
      "[I 2025-07-08 03:04:36,439] Trial 8 finished with value: 0.43583005795540974 and parameters: {'n_estimators': 118, 'max_depth': 15, 'min_samples_split': 6, 'max_features': None}. Best is trial 5 with value: 0.4331090933530437.\n",
      "[I 2025-07-08 03:05:06,130] Trial 9 finished with value: 0.4335629787218157 and parameters: {'n_estimators': 142, 'max_depth': 20, 'min_samples_split': 9, 'max_features': None}. Best is trial 5 with value: 0.4331090933530437.\n",
      "[I 2025-07-08 03:05:50,199] Trial 10 finished with value: 0.43310826585313583 and parameters: {'n_estimators': 194, 'max_depth': 18, 'min_samples_split': 4, 'max_features': None}. Best is trial 10 with value: 0.43310826585313583.\n",
      "[I 2025-07-08 03:06:35,387] Trial 11 finished with value: 0.43317306700342195 and parameters: {'n_estimators': 200, 'max_depth': 18, 'min_samples_split': 4, 'max_features': None}. Best is trial 10 with value: 0.43310826585313583.\n",
      "[I 2025-07-08 03:07:16,749] Trial 12 finished with value: 0.43283900433398276 and parameters: {'n_estimators': 172, 'max_depth': 18, 'min_samples_split': 4, 'max_features': None}. Best is trial 12 with value: 0.43283900433398276.\n",
      "[I 2025-07-08 03:08:00,848] Trial 13 finished with value: 0.4331574602043516 and parameters: {'n_estimators': 198, 'max_depth': 18, 'min_samples_split': 4, 'max_features': None}. Best is trial 12 with value: 0.43283900433398276.\n",
      "[I 2025-07-08 03:08:41,197] Trial 14 finished with value: 0.43303908180505235 and parameters: {'n_estimators': 171, 'max_depth': 20, 'min_samples_split': 5, 'max_features': None}. Best is trial 12 with value: 0.43283900433398276.\n",
      "[I 2025-07-08 03:08:50,472] Trial 15 finished with value: 0.43446982880606383 and parameters: {'n_estimators': 164, 'max_depth': 20, 'min_samples_split': 7, 'max_features': 'sqrt'}. Best is trial 12 with value: 0.43283900433398276.\n",
      "[I 2025-07-08 03:09:25,109] Trial 16 finished with value: 0.4329769086606336 and parameters: {'n_estimators': 158, 'max_depth': 19, 'min_samples_split': 5, 'max_features': None}. Best is trial 12 with value: 0.43283900433398276.\n",
      "[I 2025-07-08 03:09:57,505] Trial 17 finished with value: 0.43320056929311795 and parameters: {'n_estimators': 156, 'max_depth': 17, 'min_samples_split': 5, 'max_features': None}. Best is trial 12 with value: 0.43283900433398276.\n",
      "[I 2025-07-08 03:10:06,244] Trial 18 finished with value: 0.4396180757916007 and parameters: {'n_estimators': 182, 'max_depth': 19, 'min_samples_split': 6, 'max_features': 'log2'}. Best is trial 12 with value: 0.43283900433398276.\n",
      "[I 2025-07-08 03:10:15,369] Trial 19 finished with value: 0.4378925288735558 and parameters: {'n_estimators': 154, 'max_depth': 17, 'min_samples_split': 3, 'max_features': 'sqrt'}. Best is trial 12 with value: 0.43283900433398276.\n",
      "[I 2025-07-08 03:10:51,194] Trial 20 finished with value: 0.4328405400413415 and parameters: {'n_estimators': 181, 'max_depth': 19, 'min_samples_split': 7, 'max_features': None}. Best is trial 12 with value: 0.43283900433398276.\n",
      "[I 2025-07-08 03:11:28,153] Trial 21 finished with value: 0.4328888918723537 and parameters: {'n_estimators': 183, 'max_depth': 19, 'min_samples_split': 7, 'max_features': None}. Best is trial 12 with value: 0.43283900433398276.\n",
      "[I 2025-07-08 03:12:03,431] Trial 22 finished with value: 0.4333426797981007 and parameters: {'n_estimators': 185, 'max_depth': 19, 'min_samples_split': 8, 'max_features': None}. Best is trial 12 with value: 0.43283900433398276.\n",
      "[I 2025-07-08 03:12:37,196] Trial 23 finished with value: 0.43360252906056695 and parameters: {'n_estimators': 184, 'max_depth': 17, 'min_samples_split': 7, 'max_features': None}. Best is trial 12 with value: 0.43283900433398276.\n",
      "[I 2025-07-08 03:13:12,890] Trial 24 finished with value: 0.43279473990976874 and parameters: {'n_estimators': 180, 'max_depth': 19, 'min_samples_split': 7, 'max_features': None}. Best is trial 24 with value: 0.43279473990976874.\n",
      "[I 2025-07-08 03:13:47,213] Trial 25 finished with value: 0.43414961818403053 and parameters: {'n_estimators': 190, 'max_depth': 17, 'min_samples_split': 8, 'max_features': None}. Best is trial 24 with value: 0.43279473990976874.\n",
      "[I 2025-07-08 03:14:21,347] Trial 26 finished with value: 0.4328210475110489 and parameters: {'n_estimators': 177, 'max_depth': 19, 'min_samples_split': 7, 'max_features': None}. Best is trial 24 with value: 0.43279473990976874.\n",
      "[I 2025-07-08 03:14:44,564] Trial 27 finished with value: 0.43508917923487267 and parameters: {'n_estimators': 166, 'max_depth': 16, 'min_samples_split': 9, 'max_features': None}. Best is trial 24 with value: 0.43279473990976874.\n",
      "[I 2025-07-08 03:14:52,668] Trial 28 finished with value: 0.43389426759137706 and parameters: {'n_estimators': 175, 'max_depth': 20, 'min_samples_split': 6, 'max_features': 'sqrt'}. Best is trial 24 with value: 0.43279473990976874.\n",
      "[I 2025-07-08 03:14:57,178] Trial 29 finished with value: 0.4518569703483194 and parameters: {'n_estimators': 148, 'max_depth': 16, 'min_samples_split': 9, 'max_features': 'log2'}. Best is trial 24 with value: 0.43279473990976874.\n"
     ]
    },
    {
     "name": "stdout",
     "output_type": "stream",
     "text": [
      " Лучшие параметры (RF Optuna):\n",
      "{'n_estimators': 180, 'max_depth': 19, 'min_samples_split': 7, 'max_features': None}\n",
      "\n",
      "🔹 RMSLE train (лог): 0.2908\n",
      "🔹 RMSLE valid (лог): 0.4328\n"
     ]
    }
   ],
   "source": [
    "# Функция цели для Optuna (минимизируем RMSLE в лог‑пространстве)\n",
    "def rf_objective(trial):\n",
    "    params = {\n",
    "        'n_estimators': trial.suggest_int('n_estimators', 100, 200),\n",
    "        'max_depth': trial.suggest_int('max_depth', 12, 20),\n",
    "        'min_samples_split': trial.suggest_int('min_samples_split', 2, 10),\n",
    "        'max_features': trial.suggest_categorical('max_features', ['sqrt', 'log2', None]),\n",
    "        'random_state': 42,\n",
    "        'n_jobs': -1\n",
    "    }\n",
    "    model = RandomForestRegressor(**params)\n",
    "    model.fit(X_train_scaled, y_train_log)\n",
    "    preds = model.predict(X_valid_scaled)\n",
    "    return np.sqrt(mean_squared_error(y_valid_log, preds))\n",
    "\n",
    "# Запускаем оптимизацию\n",
    "study_rf = optuna.create_study(direction='minimize')\n",
    "study_rf.optimize(rf_objective, n_trials=30)\n",
    "\n",
    "print(\" Лучшие параметры (RF Optuna):\")\n",
    "print(study_rf.best_params)\n",
    "\n",
    "# Обучаем финальную модель на лучших параметрах\n",
    "best_rf = RandomForestRegressor(**study_rf.best_params, random_state=42, n_jobs=-1)\n",
    "best_rf.fit(X_train_scaled, y_train_log)\n",
    "\n",
    "# Расчёт RMSLE на train/valid\n",
    "y_train_pred = best_rf.predict(X_train_scaled)\n",
    "y_valid_pred = best_rf.predict(X_valid_scaled)\n",
    "\n",
    "rmsle_train = np.sqrt(mean_squared_error(y_train_log, y_train_pred))\n",
    "rmsle_valid = np.sqrt(mean_squared_error(y_valid_log, y_valid_pred))\n",
    "\n",
    "print(f\"\\n🔹 RMSLE train (лог): {rmsle_train:.4f}\")\n",
    "print(f\"🔹 RMSLE valid (лог): {rmsle_valid:.4f}\")\n"
   ]
  },
  {
   "cell_type": "markdown",
   "id": "c794d911",
   "metadata": {},
   "source": [
    "Примерно в том же диапазоне. "
   ]
  },
  {
   "cell_type": "markdown",
   "id": "b700ef56",
   "metadata": {},
   "source": [
    "#### Построим модель GradientBoostingRegressor \n",
    "Начнем с поиска параметров gridsearch"
   ]
  },
  {
   "cell_type": "code",
   "execution_count": null,
   "id": "7c8dc560",
   "metadata": {},
   "outputs": [
    {
     "name": "stdout",
     "output_type": "stream",
     "text": [
      "Fitting 3 folds for each of 16 candidates, totalling 48 fits\n",
      "📌 Лучшие параметры: {'learning_rate': 0.1, 'max_depth': 5, 'min_samples_split': 2, 'n_estimators': 200}\n",
      "\n",
      "📊 Метрики (логарифмированная цель):\n",
      "✅ RMSLE на тренировочной выборке: 0.50\n",
      "✅ RMSLE на валидационной выборке: 0.50\n"
     ]
    }
   ],
   "source": [
    "# RMSLE scorer\n",
    "def rmsle(y_true, y_pred):\n",
    "    return np.sqrt(mean_squared_error(y_true, y_pred))\n",
    "\n",
    "rmsle_scorer = make_scorer(rmsle, greater_is_better=False)\n",
    "\n",
    "# Сетка гиперпараметров\n",
    "param_grid = {\n",
    "    'learning_rate': [0.05, 0.1],\n",
    "    'n_estimators': [100, 200],\n",
    "    'max_depth': [3, 5],\n",
    "    'min_samples_split': [2, 5]\n",
    "}\n",
    "\n",
    "# GridSearch\n",
    "grid_search = GridSearchCV(\n",
    "    GradientBoostingRegressor(random_state=42),\n",
    "    param_grid=param_grid,\n",
    "    scoring=rmsle_scorer,\n",
    "    cv=3,\n",
    "    n_jobs=-1,\n",
    "    verbose=1\n",
    ")\n",
    "\n",
    "# Обучение\n",
    "grid_search.fit(X_train_scaled, y_train_log)\n",
    "\n",
    "# Лучшая модель\n",
    "best_gb = grid_search.best_estimator_\n",
    "\n",
    "# Предсказания\n",
    "y_train_pred = best_gb.predict(X_train_scaled)\n",
    "y_valid_pred = best_gb.predict(X_valid_scaled)\n",
    "\n",
    "# Метрики\n",
    "rmsle_train = np.sqrt(mean_squared_error(y_train_log, y_train_pred))\n",
    "rmsle_valid = np.sqrt(mean_squared_error(y_valid_log, y_valid_pred))\n",
    "\n",
    "\n",
    "# Вывод\n",
    "print(\" Лучшие параметры:\", grid_search.best_params_)\n",
    "print(\"\\n Метрики (логарифмированная цель):\")\n",
    "print(f\" RMSLE на тренировочной выборке: {rmsle_train:.2f}\")\n",
    "print(f\"RMSLE на валидационной выборке: {rmsle_valid:.2f}\")\n",
    "\n"
   ]
  },
  {
   "cell_type": "markdown",
   "id": "383badd0",
   "metadata": {},
   "source": [
    "Теперь прогоним параметры через Optuna"
   ]
  },
  {
   "cell_type": "code",
   "execution_count": null,
   "id": "a2d06650",
   "metadata": {},
   "outputs": [
    {
     "name": "stderr",
     "output_type": "stream",
     "text": [
      "[I 2025-07-08 03:15:28,686] A new study created in memory with name: no-name-9d43cfd2-2e88-469f-bfc4-7915c085d108\n",
      "[I 2025-07-08 03:15:51,909] Trial 0 finished with value: 0.47080878965057926 and parameters: {'learning_rate': 0.08565775196556583, 'n_estimators': 198, 'max_depth': 4, 'min_samples_split': 4}. Best is trial 0 with value: 0.47080878965057926.\n",
      "[I 2025-07-08 03:16:13,977] Trial 1 finished with value: 0.469977120634284 and parameters: {'learning_rate': 0.051048827725042656, 'n_estimators': 150, 'max_depth': 5, 'min_samples_split': 4}. Best is trial 1 with value: 0.469977120634284.\n",
      "[I 2025-07-08 03:16:26,040] Trial 2 finished with value: 0.48875939387835804 and parameters: {'learning_rate': 0.09899871500087529, 'n_estimators': 141, 'max_depth': 3, 'min_samples_split': 2}. Best is trial 1 with value: 0.469977120634284.\n",
      "[I 2025-07-08 03:16:50,698] Trial 3 finished with value: 0.46266854901936205 and parameters: {'learning_rate': 0.0741568094511654, 'n_estimators': 168, 'max_depth': 5, 'min_samples_split': 3}. Best is trial 3 with value: 0.46266854901936205.\n",
      "[I 2025-07-08 03:17:00,135] Trial 4 finished with value: 0.49162050536424345 and parameters: {'learning_rate': 0.09613542198457994, 'n_estimators': 111, 'max_depth': 3, 'min_samples_split': 5}. Best is trial 3 with value: 0.46266854901936205.\n",
      "[I 2025-07-08 03:17:17,166] Trial 5 finished with value: 0.4666920393636133 and parameters: {'learning_rate': 0.09047249432015936, 'n_estimators': 119, 'max_depth': 5, 'min_samples_split': 5}. Best is trial 3 with value: 0.46266854901936205.\n",
      "[I 2025-07-08 03:17:25,754] Trial 6 finished with value: 0.5018555050898263 and parameters: {'learning_rate': 0.05445612204491427, 'n_estimators': 102, 'max_depth': 3, 'min_samples_split': 2}. Best is trial 3 with value: 0.46266854901936205.\n",
      "[I 2025-07-08 03:17:34,301] Trial 7 finished with value: 0.49471687177737195 and parameters: {'learning_rate': 0.09249968759783889, 'n_estimators': 100, 'max_depth': 3, 'min_samples_split': 3}. Best is trial 3 with value: 0.46266854901936205.\n",
      "[I 2025-07-08 03:17:46,339] Trial 8 finished with value: 0.49363276262307754 and parameters: {'learning_rate': 0.06561055009567965, 'n_estimators': 136, 'max_depth': 3, 'min_samples_split': 2}. Best is trial 3 with value: 0.46266854901936205.\n",
      "[I 2025-07-08 03:18:13,461] Trial 9 finished with value: 0.4639251972579592 and parameters: {'learning_rate': 0.06613827156180199, 'n_estimators': 188, 'max_depth': 5, 'min_samples_split': 3}. Best is trial 3 with value: 0.46266854901936205.\n",
      "[I 2025-07-08 03:18:32,885] Trial 10 finished with value: 0.4742507276715465 and parameters: {'learning_rate': 0.07826096196914198, 'n_estimators': 171, 'max_depth': 4, 'min_samples_split': 3}. Best is trial 3 with value: 0.46266854901936205.\n",
      "[I 2025-07-08 03:18:59,541] Trial 11 finished with value: 0.4642909741096105 and parameters: {'learning_rate': 0.0687499982552304, 'n_estimators': 178, 'max_depth': 5, 'min_samples_split': 3}. Best is trial 3 with value: 0.46266854901936205.\n",
      "[I 2025-07-08 03:19:25,834] Trial 12 finished with value: 0.4651613836102964 and parameters: {'learning_rate': 0.06312682732465244, 'n_estimators': 174, 'max_depth': 5, 'min_samples_split': 3}. Best is trial 3 with value: 0.46266854901936205.\n",
      "[I 2025-07-08 03:19:48,392] Trial 13 finished with value: 0.4730017525188809 and parameters: {'learning_rate': 0.07663648552525253, 'n_estimators': 196, 'max_depth': 4, 'min_samples_split': 4}. Best is trial 3 with value: 0.46266854901936205.\n",
      "[I 2025-07-08 03:20:11,760] Trial 14 finished with value: 0.466467710794621 and parameters: {'learning_rate': 0.059000195799020036, 'n_estimators': 162, 'max_depth': 5, 'min_samples_split': 3}. Best is trial 3 with value: 0.46266854901936205.\n",
      "[I 2025-07-08 03:20:38,593] Trial 15 finished with value: 0.4626957882248602 and parameters: {'learning_rate': 0.07293414891191476, 'n_estimators': 188, 'max_depth': 5, 'min_samples_split': 4}. Best is trial 3 with value: 0.46266854901936205.\n",
      "[I 2025-07-08 03:20:57,253] Trial 16 finished with value: 0.4736099449299361 and parameters: {'learning_rate': 0.08247870892497694, 'n_estimators': 160, 'max_depth': 4, 'min_samples_split': 4}. Best is trial 3 with value: 0.46266854901936205.\n",
      "[I 2025-07-08 03:21:24,056] Trial 17 finished with value: 0.46278671272394034 and parameters: {'learning_rate': 0.07259629095125746, 'n_estimators': 186, 'max_depth': 5, 'min_samples_split': 5}. Best is trial 3 with value: 0.46266854901936205.\n",
      "[I 2025-07-08 03:21:42,492] Trial 18 finished with value: 0.47503818611796284 and parameters: {'learning_rate': 0.07266109852723095, 'n_estimators': 163, 'max_depth': 4, 'min_samples_split': 4}. Best is trial 3 with value: 0.46266854901936205.\n",
      "[I 2025-07-08 03:22:06,394] Trial 19 finished with value: 0.4607434366151486 and parameters: {'learning_rate': 0.08132231950755282, 'n_estimators': 184, 'max_depth': 5, 'min_samples_split': 4}. Best is trial 19 with value: 0.4607434366151486.\n"
     ]
    },
    {
     "name": "stdout",
     "output_type": "stream",
     "text": [
      "📌 Лучшие параметры (GB Optuna):\n",
      "{'learning_rate': 0.08132231950755282, 'n_estimators': 184, 'max_depth': 5, 'min_samples_split': 4}\n",
      "\n",
      "📊 Метрики модели GradientBoosting (Optuna):\n",
      "🔹 RMSLE train (лог):    0.4307\n",
      "🔹 RMSLE valid (лог):    0.4607\n",
      "🔹 MAE train (долл.):    $16,486\n",
      "🔹 MAE valid (долл.):    $17,272\n",
      "🔹 MAPE train:           37.76%\n",
      "🔹 MAPE valid:           41.39%\n",
      "🔹 RMSE train (долл.):   $20,636\n",
      "🔹 RMSE valid (долл.):   $21,534\n"
     ]
    }
   ],
   "source": [
    "# Objective-функция для Optuna\n",
    "def gb_objective(trial):\n",
    "    params = {\n",
    "        'learning_rate': trial.suggest_float('learning_rate', 0.05, 0.1),\n",
    "     'n_estimators': trial.suggest_int('n_estimators', 100, 200),\n",
    "        'max_depth': trial.suggest_int('max_depth', 3, 5),\n",
    "        'min_samples_split': trial.suggest_int('min_samples_split', 2, 5),\n",
    "        'random_state': 42\n",
    "    }\n",
    "    model = GradientBoostingRegressor(**params)\n",
    "    model.fit(X_train_scaled, y_train_log)\n",
    "    preds_log = model.predict(X_valid_scaled)\n",
    "    return np.sqrt(mean_squared_error(y_valid_log, preds_log))\n",
    "\n",
    "# Запуск оптимизации\n",
    "study_gb = optuna.create_study(direction='minimize')\n",
    "study_gb.optimize(gb_objective, n_trials=20)\n",
    "\n",
    "print(\" Лучшие параметры (GB Optuna):\")\n",
    "print(study_gb.best_params)\n",
    "\n",
    "# 3) Финальное обучение с лучшими параметрами\n",
    "best_gb = GradientBoostingRegressor(**study_gb.best_params, random_state=42)\n",
    "best_gb.fit(X_train_scaled, y_train_log)\n",
    "\n",
    "# Расчёт метрик\n",
    "\n",
    "# Лог‑предсказания\n",
    "y_train_log_pred = best_gb.predict(X_train_scaled)\n",
    "y_valid_log_pred = best_gb.predict(X_valid_scaled)\n",
    "\n",
    "# RMSLE в лог‑пространстве\n",
    "rmsle_train = np.sqrt(mean_squared_error(y_train_log, y_train_log_pred))\n",
    "rmsle_valid = np.sqrt(mean_squared_error(y_valid_log, y_valid_log_pred))\n",
    "\n",
    "# Обратное преобразование в $\n",
    "y_train_true = np.expm1(y_train_log)\n",
    "y_train_pred = np.expm1(y_train_log_pred)\n",
    "y_valid_true = np.expm1(y_valid_log)\n",
    "y_valid_pred = np.expm1(y_valid_log_pred)\n",
    "\n",
    "# MAE, MAPE, RMSE в $\n",
    "mae_train = mean_absolute_error(y_train_true, y_train_pred)\n",
    "mae_valid = mean_absolute_error(y_valid_true, y_valid_pred)\n",
    "\n",
    "mape_train = mean_absolute_percentage_error(y_train_true, y_train_pred) * 100\n",
    "mape_valid = mean_absolute_percentage_error(y_valid_true, y_valid_pred) * 100\n",
    "\n",
    "rmse_train = np.sqrt(mean_squared_error(y_train_true, y_train_pred))\n",
    "rmse_valid = np.sqrt(mean_squared_error(y_valid_true, y_valid_pred))\n",
    "\n",
    "# 5) Вывод результатов\n",
    "print(\"\\n📊 Метрики модели GradientBoosting (Optuna):\")\n",
    "print(f\"🔹 RMSLE train (лог):    {rmsle_train:.4f}\")\n",
    "print(f\"🔹 RMSLE valid (лог):    {rmsle_valid:.4f}\")\n",
    "print(f\"🔹 MAE train (долл.):    ${mae_train:,.0f}\")\n",
    "print(f\"🔹 MAE valid (долл.):    ${mae_valid:,.0f}\")\n",
    "print(f\"🔹 MAPE train:           {mape_train:.2f}%\")\n",
    "print(f\"🔹 MAPE valid:           {mape_valid:.2f}%\")\n",
    "print(f\"🔹 RMSE train (долл.):   ${rmse_train:,.0f}\")\n",
    "print(f\"🔹 RMSE valid (долл.):   ${rmse_valid:,.0f}\")\n"
   ]
  },
  {
   "cell_type": "markdown",
   "id": "ffa19b3c",
   "metadata": {},
   "source": [
    "### Модель CatBoost с подборкой параметров через  Optuna"
   ]
  },
  {
   "cell_type": "code",
   "execution_count": 107,
   "id": "11ab2517",
   "metadata": {},
   "outputs": [
    {
     "name": "stderr",
     "output_type": "stream",
     "text": [
      "[I 2025-07-08 00:14:06,893] A new study created in memory with name: no-name-5ace3dae-ac39-4edd-9567-124a6ac31468\n",
      "[I 2025-07-08 00:14:31,072] Trial 0 finished with value: 0.4339059866897624 and parameters: {'iterations': 899, 'learning_rate': 0.10645281410238162, 'depth': 10, 'l2_leaf_reg': 3.878661855457802}. Best is trial 0 with value: 0.4339059866897624.\n",
      "[I 2025-07-08 00:14:39,340] Trial 1 finished with value: 0.446141658987528 and parameters: {'iterations': 754, 'learning_rate': 0.0535693373368781, 'depth': 7, 'l2_leaf_reg': 1.5933701592364633}. Best is trial 0 with value: 0.4339059866897624.\n",
      "[I 2025-07-08 00:14:49,954] Trial 2 finished with value: 0.4365126747241301 and parameters: {'iterations': 357, 'learning_rate': 0.17255609517504222, 'depth': 10, 'l2_leaf_reg': 9.63782482806386}. Best is trial 0 with value: 0.4339059866897624.\n",
      "[I 2025-07-08 00:14:57,336] Trial 3 finished with value: 0.46955938501326105 and parameters: {'iterations': 916, 'learning_rate': 0.020060386129751955, 'depth': 5, 'l2_leaf_reg': 1.9338422455829183}. Best is trial 0 with value: 0.4339059866897624.\n",
      "[I 2025-07-08 00:15:04,219] Trial 4 finished with value: 0.4415615263261633 and parameters: {'iterations': 905, 'learning_rate': 0.2609285783430935, 'depth': 8, 'l2_leaf_reg': 2.406211381521791}. Best is trial 0 with value: 0.4339059866897624.\n",
      "[I 2025-07-08 00:15:17,284] Trial 5 finished with value: 0.43896696988815 and parameters: {'iterations': 920, 'learning_rate': 0.07568876564511887, 'depth': 8, 'l2_leaf_reg': 5.3755500682750945}. Best is trial 0 with value: 0.4339059866897624.\n",
      "[I 2025-07-08 00:15:20,084] Trial 6 finished with value: 0.45084789848168505 and parameters: {'iterations': 216, 'learning_rate': 0.18252033332394657, 'depth': 7, 'l2_leaf_reg': 9.489736281175755}. Best is trial 0 with value: 0.4339059866897624.\n",
      "[I 2025-07-08 00:15:27,933] Trial 7 finished with value: 0.4444168624786498 and parameters: {'iterations': 405, 'learning_rate': 0.060749577492662535, 'depth': 9, 'l2_leaf_reg': 4.736142564570168}. Best is trial 0 with value: 0.4339059866897624.\n",
      "[I 2025-07-08 00:15:29,383] Trial 8 finished with value: 0.47347766377689876 and parameters: {'iterations': 111, 'learning_rate': 0.06955296091944534, 'depth': 7, 'l2_leaf_reg': 6.001295817738374}. Best is trial 0 with value: 0.4339059866897624.\n",
      "[I 2025-07-08 00:15:39,099] Trial 9 finished with value: 0.4472893041612953 and parameters: {'iterations': 918, 'learning_rate': 0.07562313583519088, 'depth': 6, 'l2_leaf_reg': 1.086395992229594}. Best is trial 0 with value: 0.4339059866897624.\n",
      "[I 2025-07-08 00:15:43,768] Trial 10 finished with value: 0.4940979152400434 and parameters: {'iterations': 631, 'learning_rate': 0.011960665541023726, 'depth': 4, 'l2_leaf_reg': 7.429409004509778}. Best is trial 0 with value: 0.4339059866897624.\n",
      "[I 2025-07-08 00:15:57,901] Trial 11 finished with value: 0.4372597115727459 and parameters: {'iterations': 417, 'learning_rate': 0.14660684293442097, 'depth': 10, 'l2_leaf_reg': 9.880639786881538}. Best is trial 0 with value: 0.4339059866897624.\n",
      "[I 2025-07-08 00:16:11,249] Trial 12 finished with value: 0.4347761586333291 and parameters: {'iterations': 404, 'learning_rate': 0.14152131114138616, 'depth': 10, 'l2_leaf_reg': 3.6521599122607027}. Best is trial 0 with value: 0.4339059866897624.\n",
      "[I 2025-07-08 00:16:23,682] Trial 13 finished with value: 0.43592284824516125 and parameters: {'iterations': 605, 'learning_rate': 0.11970407539054989, 'depth': 9, 'l2_leaf_reg': 3.594647223726658}. Best is trial 0 with value: 0.4339059866897624.\n",
      "[I 2025-07-08 00:16:50,474] Trial 14 finished with value: 0.44020397987082954 and parameters: {'iterations': 758, 'learning_rate': 0.028593521129218716, 'depth': 10, 'l2_leaf_reg': 3.5651607325003973}. Best is trial 0 with value: 0.4339059866897624.\n",
      "[I 2025-07-08 00:16:59,417] Trial 15 finished with value: 0.4386774470976732 and parameters: {'iterations': 515, 'learning_rate': 0.2599929939848116, 'depth': 9, 'l2_leaf_reg': 3.4881847267410038}. Best is trial 0 with value: 0.4339059866897624.\n",
      "[I 2025-07-08 00:17:09,828] Trial 16 finished with value: 0.43865894168773883 and parameters: {'iterations': 748, 'learning_rate': 0.11614420497398867, 'depth': 8, 'l2_leaf_reg': 6.80672962427541}. Best is trial 0 with value: 0.4339059866897624.\n",
      "[I 2025-07-08 00:17:19,438] Trial 17 finished with value: 0.4504895801220779 and parameters: {'iterations': 293, 'learning_rate': 0.03660675504339322, 'depth': 10, 'l2_leaf_reg': 4.467039609516127}. Best is trial 0 with value: 0.4339059866897624.\n",
      "[I 2025-07-08 00:17:29,824] Trial 18 finished with value: 0.436164299952752 and parameters: {'iterations': 500, 'learning_rate': 0.10724710050585086, 'depth': 9, 'l2_leaf_reg': 2.6647198302735697}. Best is trial 0 with value: 0.4339059866897624.\n",
      "[I 2025-07-08 00:17:36,422] Trial 19 finished with value: 0.4588958489886321 and parameters: {'iterations': 674, 'learning_rate': 0.04075386706604225, 'depth': 6, 'l2_leaf_reg': 7.865766383257974}. Best is trial 0 with value: 0.4339059866897624.\n",
      "[I 2025-07-08 00:17:41,268] Trial 20 finished with value: 0.4466371802001883 and parameters: {'iterations': 230, 'learning_rate': 0.0906393552259634, 'depth': 9, 'l2_leaf_reg': 4.310947003728277}. Best is trial 0 with value: 0.4339059866897624.\n",
      "[I 2025-07-08 00:18:00,837] Trial 21 finished with value: 0.4347451637951861 and parameters: {'iterations': 594, 'learning_rate': 0.12082652920061598, 'depth': 10, 'l2_leaf_reg': 3.349030416637915}. Best is trial 0 with value: 0.4339059866897624.\n",
      "[I 2025-07-08 00:18:12,954] Trial 22 finished with value: 0.4359626346233936 and parameters: {'iterations': 818, 'learning_rate': 0.18851205957034392, 'depth': 10, 'l2_leaf_reg': 2.995745578369892}. Best is trial 0 with value: 0.4339059866897624.\n",
      "[I 2025-07-08 00:18:28,198] Trial 23 finished with value: 0.4334630510843011 and parameters: {'iterations': 468, 'learning_rate': 0.13368031184372522, 'depth': 10, 'l2_leaf_reg': 5.604497253208688}. Best is trial 23 with value: 0.4334630510843011.\n",
      "[I 2025-07-08 00:18:49,364] Trial 24 finished with value: 0.433604327299911 and parameters: {'iterations': 1000, 'learning_rate': 0.09134243013541979, 'depth': 9, 'l2_leaf_reg': 5.915828457020052}. Best is trial 23 with value: 0.4334630510843011.\n",
      "[I 2025-07-08 00:19:03,278] Trial 25 finished with value: 0.4427743158381727 and parameters: {'iterations': 971, 'learning_rate': 0.04855122001024136, 'depth': 8, 'l2_leaf_reg': 6.1995046571829855}. Best is trial 23 with value: 0.4334630510843011.\n",
      "[I 2025-07-08 00:19:23,606] Trial 26 finished with value: 0.4344396316817276 and parameters: {'iterations': 998, 'learning_rate': 0.09181636608333377, 'depth': 9, 'l2_leaf_reg': 5.4231788582671765}. Best is trial 23 with value: 0.4334630510843011.\n",
      "[I 2025-07-08 00:19:41,323] Trial 27 finished with value: 0.4357435083389657 and parameters: {'iterations': 847, 'learning_rate': 0.08969743299826827, 'depth': 9, 'l2_leaf_reg': 8.547630267871345}. Best is trial 23 with value: 0.4334630510843011.\n",
      "[I 2025-07-08 00:19:53,555] Trial 28 finished with value: 0.43583025493685723 and parameters: {'iterations': 497, 'learning_rate': 0.22281061051279183, 'depth': 10, 'l2_leaf_reg': 6.549040732314821}. Best is trial 23 with value: 0.4334630510843011.\n",
      "[I 2025-07-08 00:20:03,503] Trial 29 finished with value: 0.44463163235999503 and parameters: {'iterations': 704, 'learning_rate': 0.04968463675731557, 'depth': 8, 'l2_leaf_reg': 5.041958653443373}. Best is trial 23 with value: 0.4334630510843011.\n",
      "[I 2025-07-08 00:20:15,936] Trial 30 finished with value: 0.4351948388936541 and parameters: {'iterations': 833, 'learning_rate': 0.14128217218177466, 'depth': 9, 'l2_leaf_reg': 4.202372004081886}. Best is trial 23 with value: 0.4334630510843011.\n",
      "[I 2025-07-08 00:20:36,883] Trial 31 finished with value: 0.43436881942348676 and parameters: {'iterations': 985, 'learning_rate': 0.08901469201881465, 'depth': 9, 'l2_leaf_reg': 5.84175856783977}. Best is trial 23 with value: 0.4334630510843011.\n",
      "[I 2025-07-08 00:21:06,247] Trial 32 finished with value: 0.4337012169698329 and parameters: {'iterations': 963, 'learning_rate': 0.06411774006423186, 'depth': 10, 'l2_leaf_reg': 5.872883137328481}. Best is trial 23 with value: 0.4334630510843011.\n",
      "[I 2025-07-08 00:21:32,544] Trial 33 finished with value: 0.4344816672619406 and parameters: {'iterations': 869, 'learning_rate': 0.0612435670772402, 'depth': 10, 'l2_leaf_reg': 7.146001511406344}. Best is trial 23 with value: 0.4334630510843011.\n",
      "[I 2025-07-08 00:22:02,044] Trial 34 finished with value: 0.4388663444326869 and parameters: {'iterations': 948, 'learning_rate': 0.026810153614045675, 'depth': 10, 'l2_leaf_reg': 5.10932282188298}. Best is trial 23 with value: 0.4334630510843011.\n",
      "[I 2025-07-08 00:22:25,922] Trial 35 finished with value: 0.4338501078593486 and parameters: {'iterations': 793, 'learning_rate': 0.06915177202312892, 'depth': 10, 'l2_leaf_reg': 5.853763483523477}. Best is trial 23 with value: 0.4334630510843011.\n",
      "[I 2025-07-08 00:22:49,685] Trial 36 finished with value: 0.4379771455307814 and parameters: {'iterations': 783, 'learning_rate': 0.04105453464016644, 'depth': 10, 'l2_leaf_reg': 6.458803823108488}. Best is trial 23 with value: 0.4334630510843011.\n",
      "[I 2025-07-08 00:23:16,253] Trial 37 finished with value: 0.43377342189717205 and parameters: {'iterations': 862, 'learning_rate': 0.06823334431797114, 'depth': 10, 'l2_leaf_reg': 5.768166226812951}. Best is trial 23 with value: 0.4334630510843011.\n",
      "[I 2025-07-08 00:23:28,965] Trial 38 finished with value: 0.44893315324700134 and parameters: {'iterations': 877, 'learning_rate': 0.031078155815446134, 'depth': 8, 'l2_leaf_reg': 7.794135180931629}. Best is trial 23 with value: 0.4334630510843011.\n",
      "[I 2025-07-08 00:23:48,695] Trial 39 finished with value: 0.4369836078320166 and parameters: {'iterations': 959, 'learning_rate': 0.056970511933229426, 'depth': 9, 'l2_leaf_reg': 5.642261032305914}. Best is trial 23 with value: 0.4334630510843011.\n",
      "[I 2025-07-08 00:23:57,162] Trial 40 finished with value: 0.46520737733839646 and parameters: {'iterations': 916, 'learning_rate': 0.01774124064900871, 'depth': 6, 'l2_leaf_reg': 4.916839906623338}. Best is trial 23 with value: 0.4334630510843011.\n",
      "[I 2025-07-08 00:24:22,445] Trial 41 finished with value: 0.4340381302490051 and parameters: {'iterations': 820, 'learning_rate': 0.06997611692147553, 'depth': 10, 'l2_leaf_reg': 5.996095328171039}. Best is trial 23 with value: 0.4334630510843011.\n",
      "[I 2025-07-08 00:24:51,056] Trial 42 finished with value: 0.43423175044794193 and parameters: {'iterations': 888, 'learning_rate': 0.07853551346945498, 'depth': 10, 'l2_leaf_reg': 6.9274463573953}. Best is trial 23 with value: 0.4334630510843011.\n",
      "[I 2025-07-08 00:25:04,900] Trial 43 finished with value: 0.43878476877460415 and parameters: {'iterations': 446, 'learning_rate': 0.06245142023739158, 'depth': 10, 'l2_leaf_reg': 5.539336564038397}. Best is trial 23 with value: 0.4334630510843011.\n",
      "[I 2025-07-08 00:25:11,204] Trial 44 finished with value: 0.45568788874011884 and parameters: {'iterations': 933, 'learning_rate': 0.1667278437342382, 'depth': 4, 'l2_leaf_reg': 6.391098477763937}. Best is trial 23 with value: 0.4334630510843011.\n",
      "[I 2025-07-08 00:25:33,402] Trial 45 finished with value: 0.4359660389367817 and parameters: {'iterations': 708, 'learning_rate': 0.05036868815143535, 'depth': 10, 'l2_leaf_reg': 4.806296786648817}. Best is trial 23 with value: 0.4334630510843011.\n",
      "[I 2025-07-08 00:25:37,370] Trial 46 finished with value: 0.4546713140265509 and parameters: {'iterations': 335, 'learning_rate': 0.07631323272317957, 'depth': 7, 'l2_leaf_reg': 7.396088936740485}. Best is trial 23 with value: 0.4334630510843011.\n",
      "[I 2025-07-08 00:25:48,833] Trial 47 finished with value: 0.43635158960115966 and parameters: {'iterations': 575, 'learning_rate': 0.1020802092109636, 'depth': 9, 'l2_leaf_reg': 5.244334812450176}. Best is trial 23 with value: 0.4334630510843011.\n",
      "[I 2025-07-08 00:26:13,197] Trial 48 finished with value: 0.43437237250087135 and parameters: {'iterations': 790, 'learning_rate': 0.0682308428069217, 'depth': 10, 'l2_leaf_reg': 5.789748924086679}. Best is trial 23 with value: 0.4334630510843011.\n",
      "[I 2025-07-08 00:26:31,012] Trial 49 finished with value: 0.4406280118249283 and parameters: {'iterations': 902, 'learning_rate': 0.04232732614043067, 'depth': 9, 'l2_leaf_reg': 8.325065699128524}. Best is trial 23 with value: 0.4334630510843011.\n"
     ]
    },
    {
     "name": "stdout",
     "output_type": "stream",
     "text": [
      "Лучшие параметры: {'iterations': 468, 'learning_rate': 0.13368031184372522, 'depth': 10, 'l2_leaf_reg': 5.604497253208688}\n",
      "Лучшее RMSLE на валидации: 0.4335\n",
      "0:\tlearn: 0.5603932\ttest: 0.5691329\tbest: 0.5691329 (0)\ttotal: 28.5ms\tremaining: 13.3s\n",
      "100:\tlearn: 0.4033213\ttest: 0.4481001\tbest: 0.4481001 (100)\ttotal: 3.08s\tremaining: 11.2s\n",
      "200:\tlearn: 0.3708352\ttest: 0.4392920\tbest: 0.4392920 (200)\ttotal: 6.1s\tremaining: 8.1s\n",
      "300:\tlearn: 0.3484579\ttest: 0.4356969\tbest: 0.4356969 (300)\ttotal: 9.4s\tremaining: 5.21s\n",
      "400:\tlearn: 0.3304415\ttest: 0.4341375\tbest: 0.4341352 (398)\ttotal: 12.9s\tremaining: 2.16s\n",
      "467:\tlearn: 0.3211324\ttest: 0.4334660\tbest: 0.4334630 (466)\ttotal: 15.1s\tremaining: 0us\n",
      "\n",
      "bestTest = 0.433463049\n",
      "bestIteration = 466\n",
      "\n",
      "Shrink model to first 467 iterations.\n",
      "\n",
      "Финальные метрики:\n",
      "RMSLE на обучении (логарифм):       0.3213\n",
      "RMSLE на валидации (логарифм):      0.4335\n",
      "MAE на валидации (доллары):         $15,936\n",
      "MAPE на валидации:                  37.42%\n",
      "RMSE на валидации (доллары):        $20,433\n"
     ]
    }
   ],
   "source": [
    "\n",
    "def objective(trial):\n",
    "    # Предлагаем гиперпараметры для оптимизации\n",
    "    params = {\n",
    "        'iterations': trial.suggest_int('iterations', 100, 1000),\n",
    "        'learning_rate': trial.suggest_float('learning_rate', 0.01, 0.3, log=True),\n",
    "        'depth': trial.suggest_int('depth', 4, 10),\n",
    "        'l2_leaf_reg': trial.suggest_float('l2_leaf_reg', 1, 10),\n",
    "        'random_seed': 42,\n",
    "        'loss_function': 'RMSE',\n",
    "        'verbose': 0\n",
    "    }\n",
    "\n",
    "    model = CatBoostRegressor(**params)\n",
    "    model.fit(X_train_scaled, y_train_log, eval_set=(X_valid_scaled, y_valid_log), early_stopping_rounds=50, verbose=False)\n",
    "\n",
    "    y_valid_pred = model.predict(X_valid_scaled)\n",
    "    rmsle_valid = np.sqrt(mean_squared_error(y_valid_log, y_valid_pred))\n",
    "\n",
    "    return rmsle_valid\n",
    "\n",
    "# Создаем исследование Optuna\n",
    "study = optuna.create_study(direction='minimize')\n",
    "study.optimize(objective, n_trials=50)\n",
    "\n",
    "print(\"Лучшие параметры:\", study.best_params)\n",
    "print(f\"Лучшее RMSLE на валидации: {study.best_value:.4f}\")\n",
    "\n",
    "# Обучение финальной модели на лучших параметрах\n",
    "best_params = study.best_params\n",
    "best_params['loss_function'] = 'RMSE'\n",
    "best_params['random_seed'] = 42\n",
    "best_params['verbose'] = 100\n",
    "\n",
    "final_model = CatBoostRegressor(**best_params)\n",
    "final_model.fit(X_train_scaled, y_train_log, eval_set=(X_valid_scaled, y_valid_log), early_stopping_rounds=50)\n",
    "\n",
    "# Предсказания\n",
    "y_train_pred = final_model.predict(X_train_scaled)\n",
    "y_valid_pred = final_model.predict(X_valid_scaled)\n",
    "\n",
    "# RMSLE (логарифм)\n",
    "rmsle_train = np.sqrt(mean_squared_error(y_train_log, y_train_pred))\n",
    "rmsle_valid = np.sqrt(mean_squared_error(y_valid_log, y_valid_pred))\n",
    "\n",
    "# MAE, MAPE и RMSE в оригинальной шкале\n",
    "y_valid_pred_orig = np.expm1(y_valid_pred)\n",
    "y_valid_orig = np.expm1(y_valid_log)\n",
    "\n",
    "mae = mean_absolute_error(y_valid_orig, y_valid_pred_orig)\n",
    "mape = mean_absolute_percentage_error(y_valid_orig, y_valid_pred_orig) * 100\n",
    "rmse = np.sqrt(mean_squared_error(y_valid_orig, y_valid_pred_orig))\n",
    "\n",
    "print(\"\\nФинальные метрики:\")\n",
    "print(f\"RMSLE на обучении (логарифм):       {rmsle_train:.4f}\")\n",
    "print(f\"RMSLE на валидации (логарифм):      {rmsle_valid:.4f}\")\n",
    "print(f\"MAE на валидации (доллары):         ${mae:,.0f}\")\n",
    "print(f\"MAPE на валидации:                  {mape:.2f}%\")\n",
    "print(f\"RMSE на валидации (доллары):        ${rmse:,.0f}\")\n"
   ]
  },
  {
   "cell_type": "markdown",
   "id": "8c2e5e18",
   "metadata": {},
   "source": [
    "Прогоним параметры через BayesSearchCV"
   ]
  },
  {
   "cell_type": "code",
   "execution_count": null,
   "id": "9b864954",
   "metadata": {},
   "outputs": [
    {
     "name": "stdout",
     "output_type": "stream",
     "text": [
      "📌 Лучшие параметры (BayesSearchCV):\n",
      "OrderedDict([('depth', 10), ('grow_policy', 'SymmetricTree'), ('iterations', 597), ('l2_leaf_reg', 9), ('learning_rate', 0.09828008484425116), ('min_data_in_leaf', 1), ('rsm', 0.862818993106826), ('subsample', 1.0)])\n",
      "0:\tlearn: 0.5647665\ttest: 0.5736971\tbest: 0.5736971 (0)\ttotal: 204ms\tremaining: 2m 1s\n",
      "100:\tlearn: 0.4207755\ttest: 0.4542717\tbest: 0.4542717 (100)\ttotal: 7.57s\tremaining: 37.2s\n",
      "200:\tlearn: 0.3969510\ttest: 0.4460463\tbest: 0.4460463 (200)\ttotal: 14.9s\tremaining: 29.3s\n",
      "300:\tlearn: 0.3762454\ttest: 0.4412168\tbest: 0.4412168 (300)\ttotal: 23.1s\tremaining: 22.7s\n",
      "400:\tlearn: 0.3608574\ttest: 0.4385023\tbest: 0.4385023 (400)\ttotal: 30.9s\tremaining: 15.1s\n",
      "500:\tlearn: 0.3479526\ttest: 0.4366798\tbest: 0.4366797 (499)\ttotal: 37.1s\tremaining: 7.1s\n",
      "596:\tlearn: 0.3393608\ttest: 0.4357420\tbest: 0.4357343 (589)\ttotal: 43.8s\tremaining: 0us\n",
      "\n",
      "bestTest = 0.4357343042\n",
      "bestIteration = 589\n",
      "\n",
      "Shrink model to first 590 iterations.\n",
      "\n",
      "📊 Метрики модели (BayesSearchCV):\n",
      "🔹 RMSLE train (лог):    0.3403\n",
      "🔹 RMSLE valid (лог):    0.4357\n",
      "🔹 MAE train (долл.):    $12,380\n",
      "🔹 MAE valid (долл.):    $16,059\n",
      "🔹 MAPE train:           27.41%\n",
      "🔹 MAPE valid:           37.82%\n",
      "🔹 RMSE train (долл.):   $16,286\n",
      "🔹 RMSE valid (долл.):   $20,478\n"
     ]
    }
   ],
   "source": [
    "# Функция RMSLE для scorer\n",
    "def rmsle_np(y_true, y_pred):\n",
    "    return np.sqrt(mean_squared_error(y_true, y_pred))\n",
    "\n",
    "rmsle_scorer = make_scorer(rmsle_np, greater_is_better=False)\n",
    "\n",
    "# Базовая модель без verbose\n",
    "cat_model = CatBoostRegressor(loss_function='RMSE', random_seed=42, verbose=0)\n",
    "\n",
    "# Пространство поиска гиперпараметров\n",
    "search_space = {\n",
    "    'iterations': (300, 800),\n",
    "    'learning_rate': (0.01, 0.2, 'log-uniform'),\n",
    "    'depth': (4, 10),\n",
    "    'l2_leaf_reg': (1, 10),\n",
    "    'subsample': (0.6, 1.0),\n",
    "    'rsm': (0.6, 1.0),\n",
    "    'min_data_in_leaf': (1, 20),\n",
    "    'grow_policy': ['SymmetricTree', 'Depthwise', 'Lossguide']\n",
    "}\n",
    "\n",
    "# Инициализация BayesSearchCV\n",
    "bayes_search = BayesSearchCV(\n",
    "    estimator=cat_model,\n",
    "    search_spaces=search_space,\n",
    "    scoring=rmsle_scorer,\n",
    "    n_iter=30,\n",
    "    cv=3,\n",
    "    n_jobs=-1,\n",
    "    random_state=42,\n",
    "    verbose=0\n",
    ")\n",
    "\n",
    "# Запуск поиска\n",
    "bayes_search.fit(X_train_scaled, y_train_log)\n",
    "print(\"📌 Лучшие параметры (BayesSearchCV):\")\n",
    "print(bayes_search.best_params_)\n",
    "\n",
    "# Обучение финальной модели на лучших параметрах\n",
    "best_bayes_params = bayes_search.best_params_.copy()\n",
    "best_bayes_params.update({\n",
    "    'loss_function': 'RMSE',\n",
    "    'random_seed': 42,\n",
    "    'verbose': 100\n",
    "})\n",
    "\n",
    "final_bayes_model = CatBoostRegressor(**best_bayes_params)\n",
    "final_bayes_model.fit(\n",
    "    X_train_scaled, y_train_log,\n",
    "    eval_set=(X_valid_scaled, y_valid_log),\n",
    "    early_stopping_rounds=50\n",
    ")\n",
    "\n",
    "# --- Расчёт метрик ---\n",
    "\n",
    "# Предсказания в лог‑пространстве\n",
    "y_train_pred_log_b = final_bayes_model.predict(X_train_scaled)\n",
    "y_valid_pred_log_b = final_bayes_model.predict(X_valid_scaled)\n",
    "\n",
    "# RMSLE (лог‑пространство)\n",
    "rmsle_train_b = np.sqrt(mean_squared_error(y_train_log, y_train_pred_log_b))\n",
    "rmsle_valid_b = np.sqrt(mean_squared_error(y_valid_log, y_valid_pred_log_b))\n",
    "\n",
    "# Обратное преобразование в $\n",
    "y_train_true_b = np.expm1(y_train_log)\n",
    "y_train_pred_b = np.expm1(y_train_pred_log_b)\n",
    "\n",
    "y_valid_true_b = np.expm1(y_valid_log)\n",
    "y_valid_pred_b = np.expm1(y_valid_pred_log_b)\n",
    "\n",
    "# MAE, MAPE, RMSE в $\n",
    "mae_train_b  = mean_absolute_error(y_train_true_b, y_train_pred_b)\n",
    "mae_valid_b  = mean_absolute_error(y_valid_true_b, y_valid_pred_b)\n",
    "\n",
    "mape_train_b = mean_absolute_percentage_error(y_train_true_b, y_train_pred_b) * 100\n",
    "mape_valid_b = mean_absolute_percentage_error(y_valid_true_b, y_valid_pred_b) * 100\n",
    "\n",
    "rmse_train_b = np.sqrt(mean_squared_error(y_train_true_b, y_train_pred_b))\n",
    "rmse_valid_b = np.sqrt(mean_squared_error(y_valid_true_b, y_valid_pred_b))\n",
    "\n",
    "# Вывод\n",
    "print(\"\\n📊 Метрики модели (BayesSearchCV):\")\n",
    "print(f\"🔹 RMSLE train (лог):    {rmsle_train_b:.4f}\")\n",
    "print(f\"🔹 RMSLE valid (лог):    {rmsle_valid_b:.4f}\")\n",
    "print(f\"🔹 MAE train (долл.):    ${mae_train_b:,.0f}\")\n",
    "print(f\"🔹 MAE valid (долл.):    ${mae_valid_b:,.0f}\")\n",
    "print(f\"🔹 MAPE train:           {mape_train_b:.2f}%\")\n",
    "print(f\"🔹 MAPE valid:           {mape_valid_b:.2f}%\")\n",
    "print(f\"🔹 RMSE train (долл.):   ${rmse_train_b:,.0f}\")\n",
    "print(f\"🔹 RMSE valid (долл.):   ${rmse_valid_b:,.0f}\")\n"
   ]
  },
  {
   "cell_type": "markdown",
   "id": "21373088",
   "metadata": {},
   "source": [
    "Вывод: "
   ]
  },
  {
   "cell_type": "markdown",
   "id": "0b460eea",
   "metadata": {},
   "source": [
    "Из всех построенных моделей лучшей показала себя модель Catboost. \n",
    "Среди алгоритмов по поиску оптимальных параметров были ипользованы Optuna и BayesSearchCV\n",
    "\n",
    "1. **Optuna:** \n",
    "RMSLE на обучении (логарифм):       0.3213   \n",
    "RMSLE на валидации (логарифм):      0.4335   \n",
    "MAE на валидации (доллары):         $15,936   \n",
    "MAPE на валидации:                  37.42%   \n",
    "RMSE на валидации (доллары):        $20,433     \n",
    "\n",
    "2. **BayesSearchCV**\n",
    "🔹 RMSLE train (лог):    0.3403\n",
    "🔹 RMSLE valid (лог):    0.4357\n",
    "🔹 MAE train (долл.):    $12,380\n",
    "🔹 MAE valid (долл.):    $16,059\n",
    "🔹 MAPE train:           27.41%\n",
    "🔹 MAPE valid:           37.82%\n",
    "\n",
    "\n",
    "Обе модели одинаково хороши по качеству предсказаний на валидации.\n",
    "Но если выбирать аккуратнее:\n",
    "Модель с BayesSearchCV (0.34 / 0.43) предпочтительнее, потому что чуть лучше обобщается и менее переобучена.\n",
    "\n",
    "\n",
    "Спасибо за внимание!\n"
   ]
  }
 ],
 "metadata": {
  "kernelspec": {
   "display_name": "Python 3",
   "language": "python",
   "name": "python3"
  },
  "language_info": {
   "codemirror_mode": {
    "name": "ipython",
    "version": 3
   },
   "file_extension": ".py",
   "mimetype": "text/x-python",
   "name": "python",
   "nbconvert_exporter": "python",
   "pygments_lexer": "ipython3",
   "version": "3.9.10"
  }
 },
 "nbformat": 4,
 "nbformat_minor": 5
}
